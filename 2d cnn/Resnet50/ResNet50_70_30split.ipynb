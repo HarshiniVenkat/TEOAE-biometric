{
  "nbformat": 4,
  "nbformat_minor": 0,
  "metadata": {
    "colab": {
      "name": "ResNet50:70-30split.ipynb",
      "provenance": []
    },
    "kernelspec": {
      "name": "python3",
      "display_name": "Python 3"
    }
  },
  "cells": [
    {
      "cell_type": "code",
      "metadata": {
        "id": "2SOsQqtN8KP5",
        "colab_type": "code",
        "colab": {
          "base_uri": "https://localhost:8080/",
          "height": 34
        },
        "outputId": "8c304053-e2ab-48c5-c39c-9d36e0c7635c"
      },
      "source": [
        "#Loading the drive\n",
        "from google.colab import drive\n",
        "drive.mount('/content/drive')"
      ],
      "execution_count": 1,
      "outputs": [
        {
          "output_type": "stream",
          "text": [
            "Mounted at /content/drive\n"
          ],
          "name": "stdout"
        }
      ]
    },
    {
      "cell_type": "code",
      "metadata": {
        "id": "5gjHM73Q8OOW",
        "colab_type": "code",
        "colab": {
          "base_uri": "https://localhost:8080/",
          "height": 70
        },
        "outputId": "234f15f2-3975-4639-a692-3d6d2e58360e"
      },
      "source": [
        "#Importing all the necessary Libraries\n",
        "import numpy as np \n",
        "import pandas as pd \n",
        "import pywt\n",
        "import matplotlib.pyplot as plt\n",
        "%matplotlib inline \n",
        "import seaborn as sns\n",
        "\n",
        "import tensorflow\n",
        "from tensorflow.keras.applications.inception_v3 import InceptionV3\n",
        "from sklearn import preprocessing\n",
        "from sklearn.model_selection import train_test_split\n",
        "from sklearn.preprocessing import StandardScaler\n",
        "from sklearn.decomposition import PCA\n",
        "from sklearn.svm import SVC, LinearSVC\n",
        "from sklearn.neural_network import MLPClassifier\n",
        "from sklearn.ensemble import RandomForestClassifier\n",
        "from sklearn.neighbors import KNeighborsClassifier \n",
        "from sklearn.metrics import accuracy_score\n",
        "from sklearn.metrics import confusion_matrix\n",
        "\n",
        "import keras\n",
        "from keras.layers import Dense, Flatten, Dropout\n",
        "from keras.layers import Conv2D, MaxPooling2D\n",
        "from keras.models import Sequential\n",
        "from keras.callbacks import History \n",
        "from keras.applications.resnet50 import ResNet50\n",
        "from keras.layers import Dense,Activation, Conv2D, MaxPool2D , Flatten\n",
        "from keras.preprocessing.image import ImageDataGenerator\n",
        "from keras.layers.normalization import BatchNormalization\n",
        "from keras.layers import Input\n",
        "from keras.layers import Concatenate, Dense, LSTM, Input, concatenate\n",
        "from keras.models import Model\n",
        "from keras.datasets import mnist\n",
        "from keras.layers import Dense, Dropout, LSTM\n",
        "from keras.optimizers import Adam\n",
        "\n",
        "np.random.seed(1000)"
      ],
      "execution_count": 2,
      "outputs": [
        {
          "output_type": "stream",
          "text": [
            "/usr/local/lib/python3.6/dist-packages/statsmodels/tools/_testing.py:19: FutureWarning: pandas.util.testing is deprecated. Use the functions in the public API at pandas.testing instead.\n",
            "  import pandas.util.testing as tm\n"
          ],
          "name": "stderr"
        }
      ]
    },
    {
      "cell_type": "code",
      "metadata": {
        "id": "Xdwa-d9R8PVi",
        "colab_type": "code",
        "colab": {}
      },
      "source": [
        "#Attach the path to your dataset.\n",
        "df=pd.read_csv('/content/drive/My Drive/Colab Notebooks/eardataset.csv')\n",
        "df=pd.read_csv('/content/drive/My Drive/Colab Notebooks/eardataset.csv', encoding = \"ISO-8859-1\")"
      ],
      "execution_count": 3,
      "outputs": []
    },
    {
      "cell_type": "code",
      "metadata": {
        "id": "qOEnq5K28Pgh",
        "colab_type": "code",
        "colab": {
          "base_uri": "https://localhost:8080/",
          "height": 370
        },
        "outputId": "73d42e24-17d0-48a7-af57-5251fe60d96f"
      },
      "source": [
        "#Checking for null values\n",
        "print(df.info())\n",
        "print(\"----Check if Data has any null values----\")\n",
        "print(df.isnull().sum())\n",
        "if(df.isnull().values.any()==False):\n",
        "    print(\"\\nNo null Values in the dataset\")\n",
        "else:\n",
        "    print(\"\\ndataset has null values\")"
      ],
      "execution_count": 4,
      "outputs": [
        {
          "output_type": "stream",
          "text": [
            "<class 'pandas.core.frame.DataFrame'>\n",
            "RangeIndex: 4320 entries, 0 to 4319\n",
            "Columns: 666 entries, unnamed to data_659\n",
            "dtypes: float64(660), int64(4), object(2)\n",
            "memory usage: 22.0+ MB\n",
            "None\n",
            "----Check if Data has any null values----\n",
            "unnamed     0\n",
            "subject     0\n",
            "session     0\n",
            "ear         0\n",
            "buffer      0\n",
            "           ..\n",
            "data_655    0\n",
            "data_656    0\n",
            "data_657    0\n",
            "data_658    0\n",
            "data_659    0\n",
            "Length: 666, dtype: int64\n",
            "\n",
            "No null Values in the dataset\n"
          ],
          "name": "stdout"
        }
      ]
    },
    {
      "cell_type": "code",
      "metadata": {
        "id": "XbTw3T_v8Pje",
        "colab_type": "code",
        "colab": {
          "base_uri": "https://localhost:8080/",
          "height": 185
        },
        "outputId": "da84b0ae-e84a-4eb6-f805-9119bc1d4d0f"
      },
      "source": [
        "#Reading the csv file\n",
        "df_again = pd.read_csv('/content/drive/My Drive/Colab Notebooks/eardataset.csv')\n",
        "df_again.head(3)"
      ],
      "execution_count": 5,
      "outputs": [
        {
          "output_type": "execute_result",
          "data": {
            "text/html": [
              "<div>\n",
              "<style scoped>\n",
              "    .dataframe tbody tr th:only-of-type {\n",
              "        vertical-align: middle;\n",
              "    }\n",
              "\n",
              "    .dataframe tbody tr th {\n",
              "        vertical-align: top;\n",
              "    }\n",
              "\n",
              "    .dataframe thead th {\n",
              "        text-align: right;\n",
              "    }\n",
              "</style>\n",
              "<table border=\"1\" class=\"dataframe\">\n",
              "  <thead>\n",
              "    <tr style=\"text-align: right;\">\n",
              "      <th></th>\n",
              "      <th>unnamed</th>\n",
              "      <th>subject</th>\n",
              "      <th>session</th>\n",
              "      <th>ear</th>\n",
              "      <th>buffer</th>\n",
              "      <th>block</th>\n",
              "      <th>data_0</th>\n",
              "      <th>data_1</th>\n",
              "      <th>data_2</th>\n",
              "      <th>data_3</th>\n",
              "      <th>data_4</th>\n",
              "      <th>data_5</th>\n",
              "      <th>data_6</th>\n",
              "      <th>data_7</th>\n",
              "      <th>data_8</th>\n",
              "      <th>data_9</th>\n",
              "      <th>data_10</th>\n",
              "      <th>data_11</th>\n",
              "      <th>data_12</th>\n",
              "      <th>data_13</th>\n",
              "      <th>data_14</th>\n",
              "      <th>data_15</th>\n",
              "      <th>data_16</th>\n",
              "      <th>data_17</th>\n",
              "      <th>data_18</th>\n",
              "      <th>data_19</th>\n",
              "      <th>data_20</th>\n",
              "      <th>data_21</th>\n",
              "      <th>data_22</th>\n",
              "      <th>data_23</th>\n",
              "      <th>data_24</th>\n",
              "      <th>data_25</th>\n",
              "      <th>data_26</th>\n",
              "      <th>data_27</th>\n",
              "      <th>data_28</th>\n",
              "      <th>data_29</th>\n",
              "      <th>data_30</th>\n",
              "      <th>data_31</th>\n",
              "      <th>data_32</th>\n",
              "      <th>data_33</th>\n",
              "      <th>...</th>\n",
              "      <th>data_620</th>\n",
              "      <th>data_621</th>\n",
              "      <th>data_622</th>\n",
              "      <th>data_623</th>\n",
              "      <th>data_624</th>\n",
              "      <th>data_625</th>\n",
              "      <th>data_626</th>\n",
              "      <th>data_627</th>\n",
              "      <th>data_628</th>\n",
              "      <th>data_629</th>\n",
              "      <th>data_630</th>\n",
              "      <th>data_631</th>\n",
              "      <th>data_632</th>\n",
              "      <th>data_633</th>\n",
              "      <th>data_634</th>\n",
              "      <th>data_635</th>\n",
              "      <th>data_636</th>\n",
              "      <th>data_637</th>\n",
              "      <th>data_638</th>\n",
              "      <th>data_639</th>\n",
              "      <th>data_640</th>\n",
              "      <th>data_641</th>\n",
              "      <th>data_642</th>\n",
              "      <th>data_643</th>\n",
              "      <th>data_644</th>\n",
              "      <th>data_645</th>\n",
              "      <th>data_646</th>\n",
              "      <th>data_647</th>\n",
              "      <th>data_648</th>\n",
              "      <th>data_649</th>\n",
              "      <th>data_650</th>\n",
              "      <th>data_651</th>\n",
              "      <th>data_652</th>\n",
              "      <th>data_653</th>\n",
              "      <th>data_654</th>\n",
              "      <th>data_655</th>\n",
              "      <th>data_656</th>\n",
              "      <th>data_657</th>\n",
              "      <th>data_658</th>\n",
              "      <th>data_659</th>\n",
              "    </tr>\n",
              "  </thead>\n",
              "  <tbody>\n",
              "    <tr>\n",
              "      <th>0</th>\n",
              "      <td>40</td>\n",
              "      <td>0</td>\n",
              "      <td>0</td>\n",
              "      <td>left</td>\n",
              "      <td>A</td>\n",
              "      <td>40</td>\n",
              "      <td>0.000062</td>\n",
              "      <td>0.000063</td>\n",
              "      <td>0.000064</td>\n",
              "      <td>0.000067</td>\n",
              "      <td>0.000069</td>\n",
              "      <td>0.000072</td>\n",
              "      <td>0.000074</td>\n",
              "      <td>0.000077</td>\n",
              "      <td>0.000078</td>\n",
              "      <td>0.000080</td>\n",
              "      <td>0.000081</td>\n",
              "      <td>0.000083</td>\n",
              "      <td>0.000084</td>\n",
              "      <td>0.000085</td>\n",
              "      <td>0.000085</td>\n",
              "      <td>0.000085</td>\n",
              "      <td>0.000085</td>\n",
              "      <td>0.000085</td>\n",
              "      <td>0.000084</td>\n",
              "      <td>0.000083</td>\n",
              "      <td>0.000082</td>\n",
              "      <td>0.000081</td>\n",
              "      <td>0.000081</td>\n",
              "      <td>0.000081</td>\n",
              "      <td>0.000080</td>\n",
              "      <td>0.000080</td>\n",
              "      <td>0.000080</td>\n",
              "      <td>0.000081</td>\n",
              "      <td>0.000081</td>\n",
              "      <td>0.000082</td>\n",
              "      <td>0.000083</td>\n",
              "      <td>0.000084</td>\n",
              "      <td>0.000084</td>\n",
              "      <td>0.000085</td>\n",
              "      <td>...</td>\n",
              "      <td>-0.000063</td>\n",
              "      <td>-0.000063</td>\n",
              "      <td>-0.000064</td>\n",
              "      <td>-0.000063</td>\n",
              "      <td>-0.000063</td>\n",
              "      <td>-0.000062</td>\n",
              "      <td>-0.000061</td>\n",
              "      <td>-0.000061</td>\n",
              "      <td>-0.000060</td>\n",
              "      <td>-0.000059</td>\n",
              "      <td>-0.000057</td>\n",
              "      <td>-0.000056</td>\n",
              "      <td>-0.000056</td>\n",
              "      <td>-0.000054</td>\n",
              "      <td>-0.000052</td>\n",
              "      <td>-0.000051</td>\n",
              "      <td>-0.000050</td>\n",
              "      <td>-0.000049</td>\n",
              "      <td>-0.000047</td>\n",
              "      <td>-0.000046</td>\n",
              "      <td>-0.000044</td>\n",
              "      <td>-0.000043</td>\n",
              "      <td>-0.000042</td>\n",
              "      <td>-0.000042</td>\n",
              "      <td>-0.000042</td>\n",
              "      <td>-0.000042</td>\n",
              "      <td>-0.000042</td>\n",
              "      <td>-0.000043</td>\n",
              "      <td>-0.000044</td>\n",
              "      <td>-0.000045</td>\n",
              "      <td>-0.000046</td>\n",
              "      <td>-0.000048</td>\n",
              "      <td>-0.000049</td>\n",
              "      <td>-0.000051</td>\n",
              "      <td>-0.000052</td>\n",
              "      <td>-0.000052</td>\n",
              "      <td>-0.000053</td>\n",
              "      <td>-0.000053</td>\n",
              "      <td>-0.000052</td>\n",
              "      <td>-0.000051</td>\n",
              "    </tr>\n",
              "    <tr>\n",
              "      <th>1</th>\n",
              "      <td>41</td>\n",
              "      <td>0</td>\n",
              "      <td>0</td>\n",
              "      <td>left</td>\n",
              "      <td>A</td>\n",
              "      <td>41</td>\n",
              "      <td>0.000063</td>\n",
              "      <td>0.000064</td>\n",
              "      <td>0.000065</td>\n",
              "      <td>0.000067</td>\n",
              "      <td>0.000070</td>\n",
              "      <td>0.000072</td>\n",
              "      <td>0.000075</td>\n",
              "      <td>0.000077</td>\n",
              "      <td>0.000079</td>\n",
              "      <td>0.000080</td>\n",
              "      <td>0.000081</td>\n",
              "      <td>0.000083</td>\n",
              "      <td>0.000084</td>\n",
              "      <td>0.000085</td>\n",
              "      <td>0.000085</td>\n",
              "      <td>0.000085</td>\n",
              "      <td>0.000085</td>\n",
              "      <td>0.000084</td>\n",
              "      <td>0.000083</td>\n",
              "      <td>0.000082</td>\n",
              "      <td>0.000082</td>\n",
              "      <td>0.000081</td>\n",
              "      <td>0.000081</td>\n",
              "      <td>0.000081</td>\n",
              "      <td>0.000080</td>\n",
              "      <td>0.000079</td>\n",
              "      <td>0.000079</td>\n",
              "      <td>0.000080</td>\n",
              "      <td>0.000081</td>\n",
              "      <td>0.000081</td>\n",
              "      <td>0.000083</td>\n",
              "      <td>0.000083</td>\n",
              "      <td>0.000084</td>\n",
              "      <td>0.000084</td>\n",
              "      <td>...</td>\n",
              "      <td>-0.000055</td>\n",
              "      <td>-0.000055</td>\n",
              "      <td>-0.000055</td>\n",
              "      <td>-0.000055</td>\n",
              "      <td>-0.000054</td>\n",
              "      <td>-0.000053</td>\n",
              "      <td>-0.000052</td>\n",
              "      <td>-0.000052</td>\n",
              "      <td>-0.000052</td>\n",
              "      <td>-0.000050</td>\n",
              "      <td>-0.000049</td>\n",
              "      <td>-0.000048</td>\n",
              "      <td>-0.000047</td>\n",
              "      <td>-0.000045</td>\n",
              "      <td>-0.000044</td>\n",
              "      <td>-0.000042</td>\n",
              "      <td>-0.000041</td>\n",
              "      <td>-0.000040</td>\n",
              "      <td>-0.000039</td>\n",
              "      <td>-0.000038</td>\n",
              "      <td>-0.000036</td>\n",
              "      <td>-0.000035</td>\n",
              "      <td>-0.000034</td>\n",
              "      <td>-0.000034</td>\n",
              "      <td>-0.000034</td>\n",
              "      <td>-0.000034</td>\n",
              "      <td>-0.000035</td>\n",
              "      <td>-0.000036</td>\n",
              "      <td>-0.000036</td>\n",
              "      <td>-0.000037</td>\n",
              "      <td>-0.000039</td>\n",
              "      <td>-0.000040</td>\n",
              "      <td>-0.000042</td>\n",
              "      <td>-0.000043</td>\n",
              "      <td>-0.000044</td>\n",
              "      <td>-0.000044</td>\n",
              "      <td>-0.000044</td>\n",
              "      <td>-0.000044</td>\n",
              "      <td>-0.000044</td>\n",
              "      <td>-0.000042</td>\n",
              "    </tr>\n",
              "    <tr>\n",
              "      <th>2</th>\n",
              "      <td>42</td>\n",
              "      <td>0</td>\n",
              "      <td>0</td>\n",
              "      <td>left</td>\n",
              "      <td>A</td>\n",
              "      <td>42</td>\n",
              "      <td>0.000065</td>\n",
              "      <td>0.000066</td>\n",
              "      <td>0.000067</td>\n",
              "      <td>0.000069</td>\n",
              "      <td>0.000071</td>\n",
              "      <td>0.000074</td>\n",
              "      <td>0.000077</td>\n",
              "      <td>0.000079</td>\n",
              "      <td>0.000081</td>\n",
              "      <td>0.000082</td>\n",
              "      <td>0.000083</td>\n",
              "      <td>0.000085</td>\n",
              "      <td>0.000086</td>\n",
              "      <td>0.000087</td>\n",
              "      <td>0.000087</td>\n",
              "      <td>0.000087</td>\n",
              "      <td>0.000087</td>\n",
              "      <td>0.000086</td>\n",
              "      <td>0.000086</td>\n",
              "      <td>0.000084</td>\n",
              "      <td>0.000084</td>\n",
              "      <td>0.000083</td>\n",
              "      <td>0.000083</td>\n",
              "      <td>0.000082</td>\n",
              "      <td>0.000081</td>\n",
              "      <td>0.000081</td>\n",
              "      <td>0.000081</td>\n",
              "      <td>0.000082</td>\n",
              "      <td>0.000083</td>\n",
              "      <td>0.000083</td>\n",
              "      <td>0.000084</td>\n",
              "      <td>0.000085</td>\n",
              "      <td>0.000086</td>\n",
              "      <td>0.000086</td>\n",
              "      <td>...</td>\n",
              "      <td>-0.000059</td>\n",
              "      <td>-0.000059</td>\n",
              "      <td>-0.000059</td>\n",
              "      <td>-0.000058</td>\n",
              "      <td>-0.000057</td>\n",
              "      <td>-0.000057</td>\n",
              "      <td>-0.000056</td>\n",
              "      <td>-0.000056</td>\n",
              "      <td>-0.000056</td>\n",
              "      <td>-0.000054</td>\n",
              "      <td>-0.000052</td>\n",
              "      <td>-0.000051</td>\n",
              "      <td>-0.000051</td>\n",
              "      <td>-0.000049</td>\n",
              "      <td>-0.000047</td>\n",
              "      <td>-0.000046</td>\n",
              "      <td>-0.000045</td>\n",
              "      <td>-0.000044</td>\n",
              "      <td>-0.000042</td>\n",
              "      <td>-0.000041</td>\n",
              "      <td>-0.000040</td>\n",
              "      <td>-0.000039</td>\n",
              "      <td>-0.000038</td>\n",
              "      <td>-0.000037</td>\n",
              "      <td>-0.000037</td>\n",
              "      <td>-0.000037</td>\n",
              "      <td>-0.000038</td>\n",
              "      <td>-0.000039</td>\n",
              "      <td>-0.000039</td>\n",
              "      <td>-0.000040</td>\n",
              "      <td>-0.000042</td>\n",
              "      <td>-0.000043</td>\n",
              "      <td>-0.000045</td>\n",
              "      <td>-0.000046</td>\n",
              "      <td>-0.000047</td>\n",
              "      <td>-0.000047</td>\n",
              "      <td>-0.000047</td>\n",
              "      <td>-0.000047</td>\n",
              "      <td>-0.000047</td>\n",
              "      <td>-0.000045</td>\n",
              "    </tr>\n",
              "  </tbody>\n",
              "</table>\n",
              "<p>3 rows × 666 columns</p>\n",
              "</div>"
            ],
            "text/plain": [
              "   unnamed  subject  session   ear  ...  data_656  data_657  data_658  data_659\n",
              "0       40        0        0  left  ... -0.000053 -0.000053 -0.000052 -0.000051\n",
              "1       41        0        0  left  ... -0.000044 -0.000044 -0.000044 -0.000042\n",
              "2       42        0        0  left  ... -0.000047 -0.000047 -0.000047 -0.000045\n",
              "\n",
              "[3 rows x 666 columns]"
            ]
          },
          "metadata": {
            "tags": []
          },
          "execution_count": 5
        }
      ]
    },
    {
      "cell_type": "code",
      "metadata": {
        "id": "YrjGdbWh8Pmg",
        "colab_type": "code",
        "colab": {}
      },
      "source": [
        "#Dropping columns that are not used\n",
        "df_again=df_again.drop([\"unnamed\", \"session\",\"ear\",\"buffer\",\"block\"],axis=1)"
      ],
      "execution_count": 6,
      "outputs": []
    },
    {
      "cell_type": "code",
      "metadata": {
        "id": "de1aiZCK1Tbj",
        "colab_type": "code",
        "colab": {
          "base_uri": "https://localhost:8080/",
          "height": 266
        },
        "outputId": "c6d6b834-e6cd-4a36-c26c-35904dbae45c"
      },
      "source": [
        "#View the signals in the dataset\n",
        "for i in range(0,20):\n",
        "    disp = df_again.iloc[i,1:661].values\n",
        "    plt.plot(disp)\n",
        "#10 consecutive signals are similar in a dataset while the next consecutive 10 are not."
      ],
      "execution_count": 7,
      "outputs": [
        {
          "output_type": "display_data",
          "data": {
            "image/png": "[encoded data removed]",
            "text/plain": [
              "<Figure size 432x288 with 1 Axes>"
            ]
          },
          "metadata": {
            "tags": [],
            "needs_background": "light"
          }
        }
      ]
    },
    {
      "cell_type": "code",
      "metadata": {
        "id": "iLzHx1tEGTET",
        "colab_type": "code",
        "colab": {
          "base_uri": "https://localhost:8080/",
          "height": 296
        },
        "outputId": "c6f69d8b-b43a-4d89-983b-29654f211a9b"
      },
      "source": [
        "#Scale factor testing\n",
        "import matplotlib.pyplot as plt\n",
        "import seaborn as sns\n",
        "\n",
        "x_is = [0,11,13,20]\n",
        "y_is = [97.4,99.76,99.8,98.05]\n",
        "\n",
        "plt.xlabel(\"Scale factors\")\n",
        "plt.ylabel(\"Accuracies\")\n",
        "\n",
        "plt.scatter(x_is,y_is)\n",
        "plt.plot(x_is,y_is)\n",
        "plt.annotate(\"  97.4%\", (0, 97.4))\n",
        "plt.annotate(\"99.76%\", (8.2, 99.76))\n",
        "plt.annotate(\"  99.8%\", (13, 99.8))\n",
        "plt.annotate(\"  98.05%\", (18, 97.9))"
      ],
      "execution_count": 8,
      "outputs": [
        {
          "output_type": "execute_result",
          "data": {
            "text/plain": [
              "Text(18, 97.9, '  98.05%')"
            ]
          },
          "metadata": {
            "tags": []
          },
          "execution_count": 8
        },
        {
          "output_type": "display_data",
          "data": {
            "image/png": "[encoded data removed]",
            "text/plain": [
              "<Figure size 432x288 with 1 Axes>"
            ]
          },
          "metadata": {
            "tags": [],
            "needs_background": "light"
          }
        }
      ]
    },
    {
      "cell_type": "code",
      "metadata": {
        "id": "QgdX11y-1Tbm",
        "colab_type": "code",
        "colab": {
          "base_uri": "https://localhost:8080/",
          "height": 252
        },
        "outputId": "9d40ce70-79f5-4175-dd2d-489b353382b6"
      },
      "source": [
        "#creating a dataFrame for the dataset\n",
        "def subject0(subjectno, sessionno, earname, bufferid):\n",
        "    dfu0=df.groupby(['subject', 'session', 'ear', 'buffer']).get_group((subjectno, sessionno, earname, bufferid)).iloc[-10:]\n",
        "    return dfu0\n",
        "\n",
        "x=subject0(34,0,'left','B')\n",
        "x['subject'].iloc[0]\n",
        "print(x.shape)\n",
        "print(x)"
      ],
      "execution_count": 16,
      "outputs": [
        {
          "output_type": "stream",
          "text": [
            "(10, 666)\n",
            "      unnamed  subject  session   ear  ...  data_656  data_657  data_658  data_659\n",
            "2730    30662       34        0  left  ...  0.000009  0.000009  0.000009  0.000009\n",
            "2731    30663       34        0  left  ...  0.000010  0.000010  0.000010  0.000010\n",
            "2732    30664       34        0  left  ...  0.000010  0.000010  0.000010  0.000010\n",
            "2733    30665       34        0  left  ...  0.000010  0.000010  0.000010  0.000010\n",
            "2734    30666       34        0  left  ...  0.000010  0.000010  0.000010  0.000010\n",
            "2735    30667       34        0  left  ...  0.000010  0.000010  0.000010  0.000010\n",
            "2736    30668       34        0  left  ...  0.000010  0.000010  0.000010  0.000010\n",
            "2737    30669       34        0  left  ...  0.000010  0.000010  0.000010  0.000010\n",
            "2738    30670       34        0  left  ...  0.000009  0.000008  0.000008  0.000008\n",
            "2739    30671       34        0  left  ...  0.000009  0.000008  0.000008  0.000008\n",
            "\n",
            "[10 rows x 666 columns]\n"
          ],
          "name": "stdout"
        }
      ]
    },
    {
      "cell_type": "code",
      "metadata": {
        "id": "26e5G6zt1Tbo",
        "colab_type": "code",
        "colab": {}
      },
      "source": [
        "#Creating Input and Labels DataFrame\n",
        "\n",
        "allInputTEOAEsignalsAllSubjects = pd.DataFrame([])\n",
        "allOutputLabelsAllSubjects = pd.DataFrame([])\n",
        "for a in range(54):\n",
        "    #print(a)\n",
        "    df1 = pd.DataFrame([])\n",
        "    b=[0,1]              # sessions 0 and 1\n",
        "    c=['left','right']   # ears \n",
        "    d=['A','B']          # buffers\n",
        "    \n",
        "    allFeatures =  pd.DataFrame([])\n",
        "    allInputFeatures =  pd.DataFrame([])\n",
        "    outputLabel =  pd.DataFrame([])\n",
        "    fftValues =  pd.DataFrame([])\n",
        "    psdValues =  pd.DataFrame([])\n",
        "    autocorrValues = pd.DataFrame([])\n",
        "        \n",
        "    for q,r,s in [(q,r,s) for q in b for r in c for s in d]:\n",
        "        \n",
        "        # df1 contains all the 80 TEOAE signals of subject a\n",
        "        df1 = df1.append(subject0(a,q,r,s))\n",
        "        allInputFeatures = df1.iloc[:,6:]\n",
        "    \n",
        "    allInputTEOAEsignalsAllSubjects = pd.concat([allInputTEOAEsignalsAllSubjects.reset_index(drop=True),\n",
        "                                                 allInputFeatures.reset_index(drop=True)], axis=0)\n",
        "    # the following gets you the class label <= subject no.[0,1,2,...,53]\n",
        "    outputLabel = df1.iloc[:,1] \n",
        "    #print(\"OutputLabel:\",outputLabel)\n",
        "    #allOutputLabelsAllSubjects = allOutputLabelsAllSubjects.append(outputLabel)\n",
        "    #append didn't work for output so using pd.cat instead\n",
        "    allOutputLabelsAllSubjects = pd.concat([allOutputLabelsAllSubjects.reset_index(drop=True),\n",
        "                                            outputLabel.reset_index(drop=True)], axis=0)\n",
        "    #print(allInputTEOAEsignalsAllSubjects.shape)\n",
        "    #print(allOutputLabelsAllSubjects.shape)\n"
      ],
      "execution_count": 17,
      "outputs": []
    },
    {
      "cell_type": "code",
      "metadata": {
        "id": "gVxo9XZI8P1W",
        "colab_type": "code",
        "colab": {}
      },
      "source": [
        "# save extracted dataframe locally\n",
        "X=pd.DataFrame([])\n",
        "y=pd.DataFrame([])\n",
        "xsave = pd.DataFrame([])\n",
        "ysave = pd.DataFrame([])\n",
        "X = allInputTEOAEsignalsAllSubjects\n",
        "y = allOutputLabelsAllSubjects\n",
        "xsave = X\n",
        "ysave = y\n",
        "xsave.to_pickle('dataX.pkl')\n",
        "ysave.to_pickle('labelY.pkl')"
      ],
      "execution_count": 18,
      "outputs": []
    },
    {
      "cell_type": "code",
      "metadata": {
        "id": "XnfO1tmB8P4d",
        "colab_type": "code",
        "colab": {}
      },
      "source": [
        "#Load from pkl files\n",
        "X = pd.read_pickle('dataX.pkl')\n",
        "y = pd.read_pickle('labelY.pkl')"
      ],
      "execution_count": 19,
      "outputs": []
    },
    {
      "cell_type": "code",
      "metadata": {
        "id": "dBR8D00S8P7Z",
        "colab_type": "code",
        "colab": {}
      },
      "source": [
        "#Splitting 80% for training and 20% for testing\n",
        "X_train, X_test, y_train, y_test = train_test_split(X, y, test_size=0.3, random_state=2)"
      ],
      "execution_count": 72,
      "outputs": []
    },
    {
      "cell_type": "code",
      "metadata": {
        "id": "_WgbVaUs8P-h",
        "colab_type": "code",
        "colab": {
          "base_uri": "https://localhost:8080/",
          "height": 101
        },
        "outputId": "3e88f388-b446-4ec4-9e1b-be6d57c3d09e"
      },
      "source": [
        "#Checking the dimensions of train and test array\n",
        "print(np.asarray(X_train).shape)\n",
        "print(np.asarray(X_test).shape)\n",
        "print(np.asarray(y_train).shape)\n",
        "print(np.asarray(y_test).shape)\n",
        "labels_train = list(map(lambda x: int(x), np.asarray(y_train)))\n",
        "print(np.asarray(labels_train).shape)"
      ],
      "execution_count": 73,
      "outputs": [
        {
          "output_type": "stream",
          "text": [
            "(3024, 660)\n",
            "(1296, 660)\n",
            "(3024, 1)\n",
            "(1296, 1)\n",
            "(3024,)\n"
          ],
          "name": "stdout"
        }
      ]
    },
    {
      "cell_type": "code",
      "metadata": {
        "id": "mMyjL2mF8QBZ",
        "colab_type": "code",
        "colab": {
          "base_uri": "https://localhost:8080/",
          "height": 276
        },
        "outputId": "ccd4fed9-89e2-4ffe-f7b1-23d69daa3bef"
      },
      "source": [
        "# Check if continuous waves are similar to each other in X_train\n",
        "for i in range(1,5):\n",
        "    X_disp = X_train.iloc[i,:].values\n",
        "    plt.plot(X_disp)\n",
        "#Conclusion : NOPE!"
      ],
      "execution_count": 74,
      "outputs": [
        {
          "output_type": "display_data",
          "data": {
            "image/png": "[encoded data removed]",
            "text/plain": [
              "<Figure size 432x288 with 1 Axes>"
            ]
          },
          "metadata": {
            "tags": [],
            "needs_background": "light"
          }
        }
      ]
    },
    {
      "cell_type": "code",
      "metadata": {
        "id": "4SLdoBFL8QEQ",
        "colab_type": "code",
        "colab": {
          "base_uri": "https://localhost:8080/",
          "height": 163
        },
        "outputId": "112122de-f8ae-4a64-b308-e883d5013c5e"
      },
      "source": [
        "#scales = range(1,661)\n",
        "scales = range(1,51)\n",
        "waveletname = 'morl'\n",
        "train_size = 3456\n",
        "test_size= 864\n",
        "\n",
        "#################################################\n",
        "### plotting CWT of a single TEOAE signal  ######\n",
        "#################################################\n",
        "coeff, freq = pywt.cwt(X_train.iloc[3,:], scales, waveletname, 1)\n",
        "plt.matshow(coeff,  cmap='PRGn', aspect='auto')\n",
        "plt.show()"
      ],
      "execution_count": 75,
      "outputs": [
        {
          "output_type": "display_data",
          "data": {
            "image/png": "[encoded data removed]",
            "text/plain": [
              "<Figure size 1152x144 with 1 Axes>"
            ]
          },
          "metadata": {
            "tags": [],
            "needs_background": "light"
          }
        }
      ]
    },
    {
      "cell_type": "code",
      "metadata": {
        "id": "vT7Pg9mA8QHT",
        "colab_type": "code",
        "colab": {}
      },
      "source": [
        "#CWT\n",
        "scales = range(1,51)\n",
        "waveletname = 'morl'\n",
        "train_size = X_train.shape[0]\n",
        "test_size= X_test.shape[0]\n",
        "\n",
        "#########################################################\n",
        "### creating a tensor to store CWT matrices of train egs#\n",
        "#########################################################\n",
        "train_data_cwt = np.ndarray(shape=(train_size, 50, 660)) \n",
        "\n",
        "for ii in range(0,train_size):\n",
        "    # if ii % 50 == 0: #len(X_train) == 0:\n",
        "    #     print(ii)\n",
        "    signal = X_train.iloc[ii, :]\n",
        "    coeff, freq = pywt.cwt(signal, scales, waveletname, 1)\n",
        "    coeff_ = coeff[:,:660]\n",
        "    train_data_cwt[ii, :, :] = coeff_\n",
        "    #train_data_cwt[:, :, ii] = coeff_\n",
        "\n",
        "###########################################################\n",
        "### creating a tensor to store CWT matrices of test egs ###\n",
        "###########################################################\n",
        "test_data_cwt = np.ndarray(shape=(test_size, 50, 660))\n",
        "\n",
        "for ii in range(0,test_size):\n",
        "    # if ii % 50 == 0:\n",
        "    #     print(ii)\n",
        "    signal = X_test.iloc[ii, :]\n",
        "    coeff, freq = pywt.cwt(signal, scales, waveletname, 1)\n",
        "    coeff_ = coeff[:,:660]\n",
        "    test_data_cwt[ii, :, :] = coeff_\n",
        "    #test_data_cwt[:, :, ii] = coeff_\n",
        "\n",
        "###########################################################\n",
        "### convert the labels from float to int of train and test egs\n",
        "###########################################################\n",
        "labels_train = list(map(lambda x: int(x), np.asarray(y_train)))\n",
        "labels_test = list(map(lambda x: int(x), np.asarray(y_test)))\n",
        "\n",
        "###########################################################\n",
        "### putting all the train and test CWT data             ###\n",
        "###########################################################\n",
        "x_train = train_data_cwt\n",
        "y_train = list(labels_train[:train_size])\n",
        "x_test = test_data_cwt\n",
        "y_test = list(labels_test[:test_size])"
      ],
      "execution_count": 76,
      "outputs": []
    },
    {
      "cell_type": "code",
      "metadata": {
        "id": "SySas_2O8QJ8",
        "colab_type": "code",
        "colab": {}
      },
      "source": [
        "#Convert the labels to array\n",
        "y_test_np = np.asarray(y_test)\n",
        "y_train_np = np.asarray(y_train)"
      ],
      "execution_count": 77,
      "outputs": []
    },
    {
      "cell_type": "code",
      "metadata": {
        "id": "QtU39cmn8QM1",
        "colab_type": "code",
        "colab": {
          "base_uri": "https://localhost:8080/",
          "height": 118
        },
        "outputId": "153402b5-cbed-4579-e51f-55809285271f"
      },
      "source": [
        "#Printing shapes\n",
        "print(np.asarray(x_train).shape)\n",
        "print(np.asarray(x_test).shape)\n",
        "print(np.asarray(y_train).shape)\n",
        "print(np.asarray(y_test).shape)\n",
        "print(len(x_train))\n",
        "print(len(x_test))"
      ],
      "execution_count": 78,
      "outputs": [
        {
          "output_type": "stream",
          "text": [
            "(3024, 50, 660)\n",
            "(1296, 50, 660)\n",
            "(3024,)\n",
            "(1296,)\n",
            "3024\n",
            "1296\n"
          ],
          "name": "stdout"
        }
      ]
    },
    {
      "cell_type": "code",
      "metadata": {
        "id": "BlnYkCiw8QPd",
        "colab_type": "code",
        "colab": {}
      },
      "source": [
        "# save numpy array\n",
        "np.save('x_train_CNN', x_train)\n",
        "np.save('x_test_CNN', x_test)\n",
        "np.save('y_test_CNN', y_test_np)\n",
        "np.save('y_train_CNN', y_train_np)"
      ],
      "execution_count": 79,
      "outputs": []
    },
    {
      "cell_type": "code",
      "metadata": {
        "id": "iNxWlb3x8QSI",
        "colab_type": "code",
        "colab": {}
      },
      "source": [
        "#load data\n",
        "x_train = np.load('x_train_CNN.npy')\n",
        "x_test = np.load('x_test_CNN.npy')\n",
        "y_train_np = np.load('y_train_CNN.npy')\n",
        "y_test_np = np.load('y_test_CNN.npy')"
      ],
      "execution_count": 80,
      "outputs": []
    },
    {
      "cell_type": "code",
      "metadata": {
        "id": "F0f6LCkw-7mW",
        "colab_type": "code",
        "colab": {
          "base_uri": "https://localhost:8080/",
          "height": 34
        },
        "outputId": "91856647-7031-466e-82d8-94c5a7cdf2f6"
      },
      "source": [
        "#ResNet50:\n",
        "history = History()\n",
        " \n",
        "img_x = x_train.shape[1] # = no.of samples of each TEOAE signal = 660\n",
        "img_y = x_train.shape[2] \n",
        "img_z = 3\n",
        "\n",
        "in_shape = (img_x, img_y, img_z)\n",
        "print(in_shape)\n",
        "base_model = ResNet50(weights='imagenet',include_top=False,input_shape=in_shape,classes=54)"
      ],
      "execution_count": 81,
      "outputs": [
        {
          "output_type": "stream",
          "text": [
            "(50, 660, 3)\n"
          ],
          "name": "stdout"
        }
      ]
    },
    {
      "cell_type": "code",
      "metadata": {
        "id": "kCs3e4KYCzZy",
        "colab_type": "code",
        "colab": {
          "base_uri": "https://localhost:8080/",
          "height": 218
        },
        "outputId": "0c473b97-81b3-468f-8c49-28115ba71f02"
      },
      "source": [
        "#ResNet50:\n",
        "model= Sequential()\n",
        "model.add(base_model)\n",
        "model.add(Flatten())\n",
        "#model.add(54,activation=('softmax'))\n",
        "model.summary()"
      ],
      "execution_count": 83,
      "outputs": [
        {
          "output_type": "stream",
          "text": [
            "Model: \"sequential_3\"\n",
            "_________________________________________________________________\n",
            "Layer (type)                 Output Shape              Param #   \n",
            "=================================================================\n",
            "resnet50 (Functional)        (None, 2, 21, 2048)       23587712  \n",
            "_________________________________________________________________\n",
            "flatten_3 (Flatten)          (None, 86016)             0         \n",
            "=================================================================\n",
            "Total params: 23,587,712\n",
            "Trainable params: 23,534,592\n",
            "Non-trainable params: 53,120\n",
            "_________________________________________________________________\n"
          ],
          "name": "stdout"
        }
      ]
    },
    {
      "cell_type": "code",
      "metadata": {
        "id": "pe6wUD6bD3KW",
        "colab_type": "code",
        "colab": {
          "base_uri": "https://localhost:8080/",
          "height": 50
        },
        "outputId": "87a83712-9ac0-4b14-dd9a-110155cf15ab"
      },
      "source": [
        "#ResNet50:\n",
        "x_train = x_train.astype('float32')\n",
        "x_test = x_test.astype('float32')\n",
        "\n",
        "print(x_train.shape)\n",
        "print(x_test.shape)\n",
        "num_classes = 54\n",
        "\n",
        "\n",
        "\n",
        "\n",
        "x_train_cnn = x_train.reshape(3024,50,660,1)#len(x_train),img_x, img_y, img_z)\n",
        "x_test_cnn = x_test.reshape(1296,50,660,1)#len(x_test),img_x, img_y, img_z)\n",
        "rgb_train = np.repeat(x_train_cnn, 3, -1)\n",
        "rgb_test = np.repeat(x_test_cnn,3,-1)\n",
        "# y_train_cnn = keras.utils.to_categorical(y_train_np, num_classes)\n",
        "# y_test_cnn = keras.utils.to_categorical(y_test_np, num_classes)"
      ],
      "execution_count": 84,
      "outputs": [
        {
          "output_type": "stream",
          "text": [
            "(3024, 50, 660)\n",
            "(1296, 50, 660)\n"
          ],
          "name": "stdout"
        }
      ]
    },
    {
      "cell_type": "code",
      "metadata": {
        "colab_type": "code",
        "id": "xAoxi52HBJ2M",
        "colab": {}
      },
      "source": [
        "#Compile the Model\n",
        "model.compile(loss='categorical_crossentropy',\n",
        "              optimizer='adam',\n",
        "              metrics=['accuracy'])"
      ],
      "execution_count": 85,
      "outputs": []
    },
    {
      "cell_type": "code",
      "metadata": {
        "colab_type": "code",
        "id": "MFtAcd1iBJ2Q",
        "colab": {
          "base_uri": "https://localhost:8080/",
          "height": 34
        },
        "outputId": "21791924-a51d-4275-f591-99f9b52cc2d6"
      },
      "source": [
        "#obtain the flattened output for training\n",
        "features_xtrain=model.predict(rgb_train) #training\n",
        "features_xtrain.shape\n",
        "#VANDHURCHUUUUU YAAAAYYYY"
      ],
      "execution_count": 86,
      "outputs": [
        {
          "output_type": "execute_result",
          "data": {
            "text/plain": [
              "(3024, 86016)"
            ]
          },
          "metadata": {
            "tags": []
          },
          "execution_count": 86
        }
      ]
    },
    {
      "cell_type": "code",
      "metadata": {
        "colab_type": "code",
        "id": "77IXWY03BJ2T",
        "colab": {
          "base_uri": "https://localhost:8080/",
          "height": 34
        },
        "outputId": "29e5c88c-cfd8-4f95-8722-acc0be51457b"
      },
      "source": [
        "#Flattened output for Testing\n",
        "features_xtest=model.predict(rgb_test) #testing\n",
        "features_xtest.shape"
      ],
      "execution_count": 87,
      "outputs": [
        {
          "output_type": "execute_result",
          "data": {
            "text/plain": [
              "(1296, 86016)"
            ]
          },
          "metadata": {
            "tags": []
          },
          "execution_count": 87
        }
      ]
    },
    {
      "cell_type": "code",
      "metadata": {
        "colab_type": "code",
        "id": "C8-7KDswBJ2V",
        "colab": {}
      },
      "source": [
        "# PCA on the flattened array\n",
        "\n",
        "scaler = StandardScaler()\n",
        "scaler.fit(features_xtrain)\n",
        "\n",
        "features_xtrain = scaler.transform(features_xtrain)\n",
        "features_xtest = scaler.transform(features_xtest)\n",
        "\n",
        "pca = PCA(.95)  #using 95% of the variance in the model.\n",
        "\n",
        "pca.fit(features_xtrain)\n",
        "\n",
        "features_xtrain = pca.transform(features_xtrain)\n",
        "features_xtest = pca.transform(features_xtest)"
      ],
      "execution_count": 88,
      "outputs": []
    },
    {
      "cell_type": "code",
      "metadata": {
        "id": "1kYyiyIo1TcW",
        "colab_type": "code",
        "colab": {
          "base_uri": "https://localhost:8080/",
          "height": 50
        },
        "outputId": "52dc17b5-2270-407a-c11f-0d888fb6d950"
      },
      "source": [
        " #SVM classifier\n",
        "\n",
        "svm=SVC()\n",
        "svm.fit(features_xtrain,y_train_np)\n",
        "\n",
        "#training accuracy\n",
        "acc_svm_train=round(svm.score(features_xtrain,y_train_np)*100,2)\n",
        "print(\"Training Accuracy:\",acc_svm_train)\n",
        "\n",
        "#testing accuracy\n",
        "acc_svm_test=round(svm.score(features_xtest,y_test_np)*100,2)\n",
        "print(\"Testing accuracy:\",acc_svm_test)"
      ],
      "execution_count": 89,
      "outputs": [
        {
          "output_type": "stream",
          "text": [
            "Training Accuracy: 99.9\n",
            "Testing accuracy: 99.92\n"
          ],
          "name": "stdout"
        }
      ]
    },
    {
      "cell_type": "code",
      "metadata": {
        "id": "6sN-wJUs1Tca",
        "colab_type": "code",
        "colab": {
          "base_uri": "https://localhost:8080/",
          "height": 927
        },
        "outputId": "77595d47-3948-4484-8800-7e070ba14af5"
      },
      "source": [
        "# MLP classification\n",
        "mlp_clf = MLPClassifier(hidden_layer_sizes=(100,150,100), max_iter=50, alpha=0.0001,\n",
        "                     solver='adam', verbose=10,  random_state=0,tol=0.000001)\n",
        "mlp_clf.fit(features_xtrain, y_train_np)\n",
        "\n",
        "pred_test = mlp_clf.predict(features_xtest) #testing accuracy\n",
        "accuracy_score(y_test_np, pred_test)*100"
      ],
      "execution_count": 90,
      "outputs": [
        {
          "output_type": "stream",
          "text": [
            "Iteration 1, loss = 3.59991172\n",
            "Iteration 2, loss = 2.13094477\n",
            "Iteration 3, loss = 1.08105980\n",
            "Iteration 4, loss = 0.43378714\n",
            "Iteration 5, loss = 0.15490721\n",
            "Iteration 6, loss = 0.06415583\n",
            "Iteration 7, loss = 0.03289544\n",
            "Iteration 8, loss = 0.01954478\n",
            "Iteration 9, loss = 0.01321442\n",
            "Iteration 10, loss = 0.01012769\n",
            "Iteration 11, loss = 0.00820394\n",
            "Iteration 12, loss = 0.00681607\n",
            "Iteration 13, loss = 0.00581205\n",
            "Iteration 14, loss = 0.00505255\n",
            "Iteration 15, loss = 0.00441267\n",
            "Iteration 16, loss = 0.00392120\n",
            "Iteration 17, loss = 0.00351033\n",
            "Iteration 18, loss = 0.00315693\n",
            "Iteration 19, loss = 0.00285489\n",
            "Iteration 20, loss = 0.00259728\n",
            "Iteration 21, loss = 0.00239294\n",
            "Iteration 22, loss = 0.00220249\n",
            "Iteration 23, loss = 0.00203619\n",
            "Iteration 24, loss = 0.00189041\n",
            "Iteration 25, loss = 0.00176040\n",
            "Iteration 26, loss = 0.00165401\n",
            "Iteration 27, loss = 0.00154808\n",
            "Iteration 28, loss = 0.00145308\n",
            "Iteration 29, loss = 0.00137121\n",
            "Iteration 30, loss = 0.00129888\n",
            "Iteration 31, loss = 0.00122674\n",
            "Iteration 32, loss = 0.00116345\n",
            "Iteration 33, loss = 0.00110517\n",
            "Iteration 34, loss = 0.00105420\n",
            "Iteration 35, loss = 0.00100693\n",
            "Iteration 36, loss = 0.00096191\n",
            "Iteration 37, loss = 0.00091958\n",
            "Iteration 38, loss = 0.00088178\n",
            "Iteration 39, loss = 0.00084595\n",
            "Iteration 40, loss = 0.00081408\n",
            "Iteration 41, loss = 0.00078220\n",
            "Iteration 42, loss = 0.00075346\n",
            "Iteration 43, loss = 0.00072548\n",
            "Iteration 44, loss = 0.00070036\n",
            "Iteration 45, loss = 0.00067762\n",
            "Iteration 46, loss = 0.00065582\n",
            "Iteration 47, loss = 0.00063658\n",
            "Iteration 48, loss = 0.00061685\n",
            "Iteration 49, loss = 0.00059796\n",
            "Iteration 50, loss = 0.00058078\n"
          ],
          "name": "stdout"
        },
        {
          "output_type": "stream",
          "text": [
            "/usr/local/lib/python3.6/dist-packages/sklearn/neural_network/_multilayer_perceptron.py:571: ConvergenceWarning: Stochastic Optimizer: Maximum iterations (50) reached and the optimization hasn't converged yet.\n",
            "  % self.max_iter, ConvergenceWarning)\n"
          ],
          "name": "stderr"
        },
        {
          "output_type": "execute_result",
          "data": {
            "text/plain": [
              "100.0"
            ]
          },
          "metadata": {
            "tags": []
          },
          "execution_count": 90
        }
      ]
    },
    {
      "cell_type": "code",
      "metadata": {
        "id": "0YJicEee1Tcc",
        "colab_type": "code",
        "colab": {
          "base_uri": "https://localhost:8080/",
          "height": 592
        },
        "outputId": "8b223f40-35a4-4bfb-fd99-cc21f6f36d64"
      },
      "source": [
        "# Plotting the Confusion matrix\n",
        "cm = confusion_matrix(y_test_np, pred_test)\n",
        "plt.figure(figsize=(12,10))\n",
        "sns.heatmap(cm, center=True, cmap='coolwarm')\n",
        "plt.show()"
      ],
      "execution_count": 91,
      "outputs": [
        {
          "output_type": "display_data",
          "data": {
            "image/png": "[encoded data removed]",
            "text/plain": [
              "<Figure size 864x720 with 2 Axes>"
            ]
          },
          "metadata": {
            "tags": [],
            "needs_background": "light"
          }
        }
      ]
    },
    {
      "cell_type": "code",
      "metadata": {
        "id": "v6Z6cwh51Tce",
        "colab_type": "code",
        "colab": {
          "base_uri": "https://localhost:8080/",
          "height": 34
        },
        "outputId": "437195c0-aa15-4579-8ad0-917c0b01ea4c"
      },
      "source": [
        "#Random Forest Classifier\n",
        "\n",
        "# Create the model with 100 trees\n",
        "model_rf = RandomForestClassifier(n_estimators=100, \n",
        "                               bootstrap = True,\n",
        "                               max_features = 'sqrt')\n",
        "\n",
        "model_rf.fit(features_xtrain, y_train_np)\n",
        "pred_test = model_rf.predict(features_xtest) #testing accuracy\n",
        "\n",
        "accuracy_score(y_test_np, pred_test)*100"
      ],
      "execution_count": 92,
      "outputs": [
        {
          "output_type": "execute_result",
          "data": {
            "text/plain": [
              "100.0"
            ]
          },
          "metadata": {
            "tags": []
          },
          "execution_count": 92
        }
      ]
    },
    {
      "cell_type": "code",
      "metadata": {
        "id": "my6qkUw81Tch",
        "colab_type": "code",
        "colab": {
          "base_uri": "https://localhost:8080/",
          "height": 592
        },
        "outputId": "a69f84b4-8915-4d4b-ca40-7c11f340d704"
      },
      "source": [
        "# Plotting the Confusion matrix\n",
        "cm = confusion_matrix(y_test_np, pred_test)\n",
        "\n",
        "plt.figure(figsize=(12,10))\n",
        "sns.heatmap(cm, center=True, cmap='coolwarm')\n",
        "plt.show()"
      ],
      "execution_count": 93,
      "outputs": [
        {
          "output_type": "display_data",
          "data": {
            "image/png": "[encoded data removed]",
            "text/plain": [
              "<Figure size 864x720 with 2 Axes>"
            ]
          },
          "metadata": {
            "tags": [],
            "needs_background": "light"
          }
        }
      ]
    },
    {
      "cell_type": "code",
      "metadata": {
        "id": "0iPiCu-d1Tcj",
        "colab_type": "code",
        "colab": {
          "base_uri": "https://localhost:8080/",
          "height": 34
        },
        "outputId": "b81b803c-4def-4a87-980d-f6d10d57a7b5"
      },
      "source": [
        "# K nearest neighbours algorithm \n",
        "\n",
        "knn = KNeighborsClassifier(n_neighbors=5) \n",
        "knn.fit(features_xtrain, y_train_np) \n",
        "pred_test = knn.predict(features_xtest) #testing accuracy\n",
        "accuracy_score(y_test_np, pred_test)*100"
      ],
      "execution_count": 94,
      "outputs": [
        {
          "output_type": "execute_result",
          "data": {
            "text/plain": [
              "100.0"
            ]
          },
          "metadata": {
            "tags": []
          },
          "execution_count": 94
        }
      ]
    },
    {
      "cell_type": "code",
      "metadata": {
        "id": "QppwkUHl1Tcl",
        "colab_type": "code",
        "colab": {
          "base_uri": "https://localhost:8080/",
          "height": 592
        },
        "outputId": "1a3fdaa5-6a95-4c0a-e7ba-82a37688b6bc"
      },
      "source": [
        "cm = confusion_matrix(y_test_np, pred_test)\n",
        "\n",
        "plt.figure(figsize=(12,10))\n",
        "sns.heatmap(cm, center=True, cmap='coolwarm')\n",
        "plt.show()"
      ],
      "execution_count": 95,
      "outputs": [
        {
          "output_type": "display_data",
          "data": {
            "image/png": "[encoded data removed]",
            "text/plain": [
              "<Figure size 864x720 with 2 Axes>"
            ]
          },
          "metadata": {
            "tags": [],
            "needs_background": "light"
          }
        }
      ]
    },
    {
      "cell_type": "code",
      "metadata": {
        "id": "7HInBQtG1Tcn",
        "colab_type": "code",
        "colab": {
          "base_uri": "https://localhost:8080/",
          "height": 34
        },
        "outputId": "c1235383-2fbd-48ac-b053-bb93e06c08af"
      },
      "source": [
        "# XGBoost classifier\n",
        "\n",
        "from xgboost import XGBClassifier\n",
        "model = XGBClassifier()\n",
        "model.fit(features_xtrain, y_train_np)\n",
        "pred_test = model.predict(features_xtest) #testing accuracy\n",
        "accuracy_score(y_test_np, pred_test)*100"
      ],
      "execution_count": 96,
      "outputs": [
        {
          "output_type": "execute_result",
          "data": {
            "text/plain": [
              "98.07098765432099"
            ]
          },
          "metadata": {
            "tags": []
          },
          "execution_count": 96
        }
      ]
    },
    {
      "cell_type": "code",
      "metadata": {
        "id": "9y3szKcj1Tcp",
        "colab_type": "code",
        "colab": {
          "base_uri": "https://localhost:8080/",
          "height": 596
        },
        "outputId": "d2b7ab6b-9cfa-4f58-baf7-2767654593ee"
      },
      "source": [
        "cm = confusion_matrix(y_test_np, pred_test)\n",
        "\n",
        "plt.figure(figsize=(12,10))\n",
        "sns.heatmap(cm, center=True, cmap='coolwarm')\n",
        "plt.show()"
      ],
      "execution_count": 97,
      "outputs": [
        {
          "output_type": "display_data",
          "data": {
            "image/png": "[encoded data removed]",
            "text/plain": [
              "<Figure size 864x720 with 2 Axes>"
            ]
          },
          "metadata": {
            "tags": [],
            "needs_background": "light"
          }
        }
      ]
    }
  ]
}