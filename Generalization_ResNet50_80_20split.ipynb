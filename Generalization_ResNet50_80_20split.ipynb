{
  "nbformat": 4,
  "nbformat_minor": 0,
  "metadata": {
    "colab": {
      "name": "Generalization ResNet50_80_20split.ipynb",
      "provenance": []
    },
    "kernelspec": {
      "name": "python3",
      "display_name": "Python 3"
    }
  },
  "cells": [
    {
      "cell_type": "code",
      "metadata": {
        "id": "2SOsQqtN8KP5",
        "colab": {
          "base_uri": "https://localhost:8080/"
        },
        "outputId": "f0e1648d-4304-45af-a7ff-f60070af5b62"
      },
      "source": [
        "#Loading the drive\n",
        "from google.colab import drive\n",
        "drive.mount('/content/drive')"
      ],
      "execution_count": null,
      "outputs": [
        {
          "output_type": "stream",
          "text": [
            "Mounted at /content/drive\n"
          ],
          "name": "stdout"
        }
      ]
    },
    {
      "cell_type": "code",
      "metadata": {
        "id": "5gjHM73Q8OOW"
      },
      "source": [
        "#Importing all the necessary Libraries\n",
        "import numpy as np \n",
        "import pandas as pd \n",
        "import pywt\n",
        "import matplotlib.pyplot as plt\n",
        "%matplotlib inline \n",
        "import seaborn as sns\n",
        "import time\n",
        "import tensorflow\n",
        "from tensorflow.keras.applications.inception_v3 import InceptionV3\n",
        "from sklearn import preprocessing\n",
        "from sklearn.model_selection import train_test_split\n",
        "from sklearn.preprocessing import StandardScaler\n",
        "from sklearn.decomposition import PCA\n",
        "from sklearn.svm import SVC, LinearSVC\n",
        "from sklearn.neural_network import MLPClassifier\n",
        "from sklearn.ensemble import RandomForestClassifier\n",
        "from sklearn.neighbors import KNeighborsClassifier \n",
        "from sklearn.metrics import accuracy_score\n",
        "from sklearn.metrics import confusion_matrix\n",
        "\n",
        "import keras\n",
        "from keras.layers import Dense, Flatten, Dropout\n",
        "from keras.layers import Conv2D, MaxPooling2D\n",
        "from keras.models import Sequential\n",
        "from keras.callbacks import History \n",
        "from keras.applications.resnet50 import ResNet50\n",
        "from keras.layers import Dense,Activation, Conv2D, MaxPool2D , Flatten\n",
        "from keras.preprocessing.image import ImageDataGenerator\n",
        "from keras.layers.normalization import BatchNormalization\n",
        "from keras.layers import Input\n",
        "from keras.layers import Concatenate, Dense, LSTM, Input, concatenate\n",
        "from keras.models import Model\n",
        "from keras.datasets import mnist\n",
        "from keras.layers import Dense, Dropout, LSTM\n",
        "from keras.optimizers import Adam\n",
        "\n",
        "np.random.seed(1000)"
      ],
      "execution_count": null,
      "outputs": []
    },
    {
      "cell_type": "code",
      "metadata": {
        "id": "Xdwa-d9R8PVi"
      },
      "source": [
        "#Attach the path to your dataset.\n",
        "df=pd.read_csv('/content/drive/My Drive/Colab Notebooks/eardataset.csv')\n",
        "df=pd.read_csv('/content/drive/My Drive/Colab Notebooks/eardataset.csv', encoding = \"ISO-8859-1\")"
      ],
      "execution_count": null,
      "outputs": []
    },
    {
      "cell_type": "code",
      "metadata": {
        "id": "qOEnq5K28Pgh",
        "colab": {
          "base_uri": "https://localhost:8080/"
        },
        "outputId": "0b5d5ee6-780f-48fd-d1d6-710e4b389265"
      },
      "source": [
        "#Checking for null values\n",
        "print(df.info())\n",
        "print(\"----Check if Data has any null values----\")\n",
        "print(df.isnull().sum())\n",
        "if(df.isnull().values.any()==False):\n",
        "    print(\"\\nNo null Values in the dataset\")\n",
        "else:\n",
        "    print(\"\\ndataset has null values\")"
      ],
      "execution_count": null,
      "outputs": [
        {
          "output_type": "stream",
          "text": [
            "<class 'pandas.core.frame.DataFrame'>\n",
            "RangeIndex: 4320 entries, 0 to 4319\n",
            "Columns: 666 entries, unnamed to data_659\n",
            "dtypes: float64(660), int64(4), object(2)\n",
            "memory usage: 22.0+ MB\n",
            "None\n",
            "----Check if Data has any null values----\n",
            "unnamed     0\n",
            "subject     0\n",
            "session     0\n",
            "ear         0\n",
            "buffer      0\n",
            "           ..\n",
            "data_655    0\n",
            "data_656    0\n",
            "data_657    0\n",
            "data_658    0\n",
            "data_659    0\n",
            "Length: 666, dtype: int64\n",
            "\n",
            "No null Values in the dataset\n"
          ],
          "name": "stdout"
        }
      ]
    },
    {
      "cell_type": "code",
      "metadata": {
        "id": "XbTw3T_v8Pje",
        "colab": {
          "base_uri": "https://localhost:8080/",
          "height": 185
        },
        "outputId": "c952c65d-e8cc-4923-b5c4-b1d68531ffe7"
      },
      "source": [
        "#Reading the csv file\n",
        "df_again = pd.read_csv('/content/drive/My Drive/Colab Notebooks/eardataset.csv')\n",
        "df_again.head(3)"
      ],
      "execution_count": null,
      "outputs": [
        {
          "output_type": "execute_result",
          "data": {
            "text/html": [
              "<div>\n",
              "<style scoped>\n",
              "    .dataframe tbody tr th:only-of-type {\n",
              "        vertical-align: middle;\n",
              "    }\n",
              "\n",
              "    .dataframe tbody tr th {\n",
              "        vertical-align: top;\n",
              "    }\n",
              "\n",
              "    .dataframe thead th {\n",
              "        text-align: right;\n",
              "    }\n",
              "</style>\n",
              "<table border=\"1\" class=\"dataframe\">\n",
              "  <thead>\n",
              "    <tr style=\"text-align: right;\">\n",
              "      <th></th>\n",
              "      <th>unnamed</th>\n",
              "      <th>subject</th>\n",
              "      <th>session</th>\n",
              "      <th>ear</th>\n",
              "      <th>buffer</th>\n",
              "      <th>block</th>\n",
              "      <th>data_0</th>\n",
              "      <th>data_1</th>\n",
              "      <th>data_2</th>\n",
              "      <th>data_3</th>\n",
              "      <th>data_4</th>\n",
              "      <th>data_5</th>\n",
              "      <th>data_6</th>\n",
              "      <th>data_7</th>\n",
              "      <th>data_8</th>\n",
              "      <th>data_9</th>\n",
              "      <th>data_10</th>\n",
              "      <th>data_11</th>\n",
              "      <th>data_12</th>\n",
              "      <th>data_13</th>\n",
              "      <th>data_14</th>\n",
              "      <th>data_15</th>\n",
              "      <th>data_16</th>\n",
              "      <th>data_17</th>\n",
              "      <th>data_18</th>\n",
              "      <th>data_19</th>\n",
              "      <th>data_20</th>\n",
              "      <th>data_21</th>\n",
              "      <th>data_22</th>\n",
              "      <th>data_23</th>\n",
              "      <th>data_24</th>\n",
              "      <th>data_25</th>\n",
              "      <th>data_26</th>\n",
              "      <th>data_27</th>\n",
              "      <th>data_28</th>\n",
              "      <th>data_29</th>\n",
              "      <th>data_30</th>\n",
              "      <th>data_31</th>\n",
              "      <th>data_32</th>\n",
              "      <th>data_33</th>\n",
              "      <th>...</th>\n",
              "      <th>data_620</th>\n",
              "      <th>data_621</th>\n",
              "      <th>data_622</th>\n",
              "      <th>data_623</th>\n",
              "      <th>data_624</th>\n",
              "      <th>data_625</th>\n",
              "      <th>data_626</th>\n",
              "      <th>data_627</th>\n",
              "      <th>data_628</th>\n",
              "      <th>data_629</th>\n",
              "      <th>data_630</th>\n",
              "      <th>data_631</th>\n",
              "      <th>data_632</th>\n",
              "      <th>data_633</th>\n",
              "      <th>data_634</th>\n",
              "      <th>data_635</th>\n",
              "      <th>data_636</th>\n",
              "      <th>data_637</th>\n",
              "      <th>data_638</th>\n",
              "      <th>data_639</th>\n",
              "      <th>data_640</th>\n",
              "      <th>data_641</th>\n",
              "      <th>data_642</th>\n",
              "      <th>data_643</th>\n",
              "      <th>data_644</th>\n",
              "      <th>data_645</th>\n",
              "      <th>data_646</th>\n",
              "      <th>data_647</th>\n",
              "      <th>data_648</th>\n",
              "      <th>data_649</th>\n",
              "      <th>data_650</th>\n",
              "      <th>data_651</th>\n",
              "      <th>data_652</th>\n",
              "      <th>data_653</th>\n",
              "      <th>data_654</th>\n",
              "      <th>data_655</th>\n",
              "      <th>data_656</th>\n",
              "      <th>data_657</th>\n",
              "      <th>data_658</th>\n",
              "      <th>data_659</th>\n",
              "    </tr>\n",
              "  </thead>\n",
              "  <tbody>\n",
              "    <tr>\n",
              "      <th>0</th>\n",
              "      <td>40</td>\n",
              "      <td>0</td>\n",
              "      <td>0</td>\n",
              "      <td>left</td>\n",
              "      <td>A</td>\n",
              "      <td>40</td>\n",
              "      <td>0.000062</td>\n",
              "      <td>0.000063</td>\n",
              "      <td>0.000064</td>\n",
              "      <td>0.000067</td>\n",
              "      <td>0.000069</td>\n",
              "      <td>0.000072</td>\n",
              "      <td>0.000074</td>\n",
              "      <td>0.000077</td>\n",
              "      <td>0.000078</td>\n",
              "      <td>0.000080</td>\n",
              "      <td>0.000081</td>\n",
              "      <td>0.000083</td>\n",
              "      <td>0.000084</td>\n",
              "      <td>0.000085</td>\n",
              "      <td>0.000085</td>\n",
              "      <td>0.000085</td>\n",
              "      <td>0.000085</td>\n",
              "      <td>0.000085</td>\n",
              "      <td>0.000084</td>\n",
              "      <td>0.000083</td>\n",
              "      <td>0.000082</td>\n",
              "      <td>0.000081</td>\n",
              "      <td>0.000081</td>\n",
              "      <td>0.000081</td>\n",
              "      <td>0.000080</td>\n",
              "      <td>0.000080</td>\n",
              "      <td>0.000080</td>\n",
              "      <td>0.000081</td>\n",
              "      <td>0.000081</td>\n",
              "      <td>0.000082</td>\n",
              "      <td>0.000083</td>\n",
              "      <td>0.000084</td>\n",
              "      <td>0.000084</td>\n",
              "      <td>0.000085</td>\n",
              "      <td>...</td>\n",
              "      <td>-0.000063</td>\n",
              "      <td>-0.000063</td>\n",
              "      <td>-0.000064</td>\n",
              "      <td>-0.000063</td>\n",
              "      <td>-0.000063</td>\n",
              "      <td>-0.000062</td>\n",
              "      <td>-0.000061</td>\n",
              "      <td>-0.000061</td>\n",
              "      <td>-0.000060</td>\n",
              "      <td>-0.000059</td>\n",
              "      <td>-0.000057</td>\n",
              "      <td>-0.000056</td>\n",
              "      <td>-0.000056</td>\n",
              "      <td>-0.000054</td>\n",
              "      <td>-0.000052</td>\n",
              "      <td>-0.000051</td>\n",
              "      <td>-0.000050</td>\n",
              "      <td>-0.000049</td>\n",
              "      <td>-0.000047</td>\n",
              "      <td>-0.000046</td>\n",
              "      <td>-0.000044</td>\n",
              "      <td>-0.000043</td>\n",
              "      <td>-0.000042</td>\n",
              "      <td>-0.000042</td>\n",
              "      <td>-0.000042</td>\n",
              "      <td>-0.000042</td>\n",
              "      <td>-0.000042</td>\n",
              "      <td>-0.000043</td>\n",
              "      <td>-0.000044</td>\n",
              "      <td>-0.000045</td>\n",
              "      <td>-0.000046</td>\n",
              "      <td>-0.000048</td>\n",
              "      <td>-0.000049</td>\n",
              "      <td>-0.000051</td>\n",
              "      <td>-0.000052</td>\n",
              "      <td>-0.000052</td>\n",
              "      <td>-0.000053</td>\n",
              "      <td>-0.000053</td>\n",
              "      <td>-0.000052</td>\n",
              "      <td>-0.000051</td>\n",
              "    </tr>\n",
              "    <tr>\n",
              "      <th>1</th>\n",
              "      <td>41</td>\n",
              "      <td>0</td>\n",
              "      <td>0</td>\n",
              "      <td>left</td>\n",
              "      <td>A</td>\n",
              "      <td>41</td>\n",
              "      <td>0.000063</td>\n",
              "      <td>0.000064</td>\n",
              "      <td>0.000065</td>\n",
              "      <td>0.000067</td>\n",
              "      <td>0.000070</td>\n",
              "      <td>0.000072</td>\n",
              "      <td>0.000075</td>\n",
              "      <td>0.000077</td>\n",
              "      <td>0.000079</td>\n",
              "      <td>0.000080</td>\n",
              "      <td>0.000081</td>\n",
              "      <td>0.000083</td>\n",
              "      <td>0.000084</td>\n",
              "      <td>0.000085</td>\n",
              "      <td>0.000085</td>\n",
              "      <td>0.000085</td>\n",
              "      <td>0.000085</td>\n",
              "      <td>0.000084</td>\n",
              "      <td>0.000083</td>\n",
              "      <td>0.000082</td>\n",
              "      <td>0.000082</td>\n",
              "      <td>0.000081</td>\n",
              "      <td>0.000081</td>\n",
              "      <td>0.000081</td>\n",
              "      <td>0.000080</td>\n",
              "      <td>0.000079</td>\n",
              "      <td>0.000079</td>\n",
              "      <td>0.000080</td>\n",
              "      <td>0.000081</td>\n",
              "      <td>0.000081</td>\n",
              "      <td>0.000083</td>\n",
              "      <td>0.000083</td>\n",
              "      <td>0.000084</td>\n",
              "      <td>0.000084</td>\n",
              "      <td>...</td>\n",
              "      <td>-0.000055</td>\n",
              "      <td>-0.000055</td>\n",
              "      <td>-0.000055</td>\n",
              "      <td>-0.000055</td>\n",
              "      <td>-0.000054</td>\n",
              "      <td>-0.000053</td>\n",
              "      <td>-0.000052</td>\n",
              "      <td>-0.000052</td>\n",
              "      <td>-0.000052</td>\n",
              "      <td>-0.000050</td>\n",
              "      <td>-0.000049</td>\n",
              "      <td>-0.000048</td>\n",
              "      <td>-0.000047</td>\n",
              "      <td>-0.000045</td>\n",
              "      <td>-0.000044</td>\n",
              "      <td>-0.000042</td>\n",
              "      <td>-0.000041</td>\n",
              "      <td>-0.000040</td>\n",
              "      <td>-0.000039</td>\n",
              "      <td>-0.000038</td>\n",
              "      <td>-0.000036</td>\n",
              "      <td>-0.000035</td>\n",
              "      <td>-0.000034</td>\n",
              "      <td>-0.000034</td>\n",
              "      <td>-0.000034</td>\n",
              "      <td>-0.000034</td>\n",
              "      <td>-0.000035</td>\n",
              "      <td>-0.000036</td>\n",
              "      <td>-0.000036</td>\n",
              "      <td>-0.000037</td>\n",
              "      <td>-0.000039</td>\n",
              "      <td>-0.000040</td>\n",
              "      <td>-0.000042</td>\n",
              "      <td>-0.000043</td>\n",
              "      <td>-0.000044</td>\n",
              "      <td>-0.000044</td>\n",
              "      <td>-0.000044</td>\n",
              "      <td>-0.000044</td>\n",
              "      <td>-0.000044</td>\n",
              "      <td>-0.000042</td>\n",
              "    </tr>\n",
              "    <tr>\n",
              "      <th>2</th>\n",
              "      <td>42</td>\n",
              "      <td>0</td>\n",
              "      <td>0</td>\n",
              "      <td>left</td>\n",
              "      <td>A</td>\n",
              "      <td>42</td>\n",
              "      <td>0.000065</td>\n",
              "      <td>0.000066</td>\n",
              "      <td>0.000067</td>\n",
              "      <td>0.000069</td>\n",
              "      <td>0.000071</td>\n",
              "      <td>0.000074</td>\n",
              "      <td>0.000077</td>\n",
              "      <td>0.000079</td>\n",
              "      <td>0.000081</td>\n",
              "      <td>0.000082</td>\n",
              "      <td>0.000083</td>\n",
              "      <td>0.000085</td>\n",
              "      <td>0.000086</td>\n",
              "      <td>0.000087</td>\n",
              "      <td>0.000087</td>\n",
              "      <td>0.000087</td>\n",
              "      <td>0.000087</td>\n",
              "      <td>0.000086</td>\n",
              "      <td>0.000086</td>\n",
              "      <td>0.000084</td>\n",
              "      <td>0.000084</td>\n",
              "      <td>0.000083</td>\n",
              "      <td>0.000083</td>\n",
              "      <td>0.000082</td>\n",
              "      <td>0.000081</td>\n",
              "      <td>0.000081</td>\n",
              "      <td>0.000081</td>\n",
              "      <td>0.000082</td>\n",
              "      <td>0.000083</td>\n",
              "      <td>0.000083</td>\n",
              "      <td>0.000084</td>\n",
              "      <td>0.000085</td>\n",
              "      <td>0.000086</td>\n",
              "      <td>0.000086</td>\n",
              "      <td>...</td>\n",
              "      <td>-0.000059</td>\n",
              "      <td>-0.000059</td>\n",
              "      <td>-0.000059</td>\n",
              "      <td>-0.000058</td>\n",
              "      <td>-0.000057</td>\n",
              "      <td>-0.000057</td>\n",
              "      <td>-0.000056</td>\n",
              "      <td>-0.000056</td>\n",
              "      <td>-0.000056</td>\n",
              "      <td>-0.000054</td>\n",
              "      <td>-0.000052</td>\n",
              "      <td>-0.000051</td>\n",
              "      <td>-0.000051</td>\n",
              "      <td>-0.000049</td>\n",
              "      <td>-0.000047</td>\n",
              "      <td>-0.000046</td>\n",
              "      <td>-0.000045</td>\n",
              "      <td>-0.000044</td>\n",
              "      <td>-0.000042</td>\n",
              "      <td>-0.000041</td>\n",
              "      <td>-0.000040</td>\n",
              "      <td>-0.000039</td>\n",
              "      <td>-0.000038</td>\n",
              "      <td>-0.000037</td>\n",
              "      <td>-0.000037</td>\n",
              "      <td>-0.000037</td>\n",
              "      <td>-0.000038</td>\n",
              "      <td>-0.000039</td>\n",
              "      <td>-0.000039</td>\n",
              "      <td>-0.000040</td>\n",
              "      <td>-0.000042</td>\n",
              "      <td>-0.000043</td>\n",
              "      <td>-0.000045</td>\n",
              "      <td>-0.000046</td>\n",
              "      <td>-0.000047</td>\n",
              "      <td>-0.000047</td>\n",
              "      <td>-0.000047</td>\n",
              "      <td>-0.000047</td>\n",
              "      <td>-0.000047</td>\n",
              "      <td>-0.000045</td>\n",
              "    </tr>\n",
              "  </tbody>\n",
              "</table>\n",
              "<p>3 rows × 666 columns</p>\n",
              "</div>"
            ],
            "text/plain": [
              "   unnamed  subject  session   ear  ...  data_656  data_657  data_658  data_659\n",
              "0       40        0        0  left  ... -0.000053 -0.000053 -0.000052 -0.000051\n",
              "1       41        0        0  left  ... -0.000044 -0.000044 -0.000044 -0.000042\n",
              "2       42        0        0  left  ... -0.000047 -0.000047 -0.000047 -0.000045\n",
              "\n",
              "[3 rows x 666 columns]"
            ]
          },
          "metadata": {
            "tags": []
          },
          "execution_count": 7
        }
      ]
    },
    {
      "cell_type": "code",
      "metadata": {
        "id": "YrjGdbWh8Pmg"
      },
      "source": [
        "#Dropping columns that are not used\n",
        "df_again=df_again.drop([\"unnamed\", \"session\",\"ear\",\"buffer\",\"block\"],axis=1)"
      ],
      "execution_count": null,
      "outputs": []
    },
    {
      "cell_type": "code",
      "metadata": {
        "id": "de1aiZCK1Tbj",
        "colab": {
          "base_uri": "https://localhost:8080/",
          "height": 266
        },
        "outputId": "a734be84-7680-4cde-c5aa-229eec8bd3d6"
      },
      "source": [
        "#View the signals in the dataset\n",
        "for i in range(0,20):\n",
        "    disp = df_again.iloc[i,1:661].values\n",
        "    plt.plot(disp)\n",
        "#10 consecutive signals are similar in a dataset while the next consecutive 10 are not."
      ],
      "execution_count": null,
      "outputs": [
        {
          "output_type": "display_data",
          "data": {
            "image/png": "[encoded data removed]",
            "text/plain": [
              "<Figure size 432x288 with 1 Axes>"
            ]
          },
          "metadata": {
            "tags": [],
            "needs_background": "light"
          }
        }
      ]
    },
    {
      "cell_type": "code",
      "metadata": {
        "id": "iLzHx1tEGTET",
        "colab": {
          "base_uri": "https://localhost:8080/",
          "height": 296
        },
        "outputId": "3cebe33c-3d89-4ab0-8c93-9f17abaf26d3"
      },
      "source": [
        "#Scale factor testing\n",
        "import matplotlib.pyplot as plt\n",
        "import seaborn as sns\n",
        "\n",
        "x_is = [0,11,13,20]\n",
        "y_is = [97.4,99.76,99.8,98.05]\n",
        "\n",
        "plt.xlabel(\"Scale factors\")\n",
        "plt.ylabel(\"Accuracies\")\n",
        "\n",
        "plt.scatter(x_is,y_is)\n",
        "plt.plot(x_is,y_is)\n",
        "plt.annotate(\"  97.4%\", (0, 97.4))\n",
        "plt.annotate(\"99.76%\", (8.2, 99.76))\n",
        "plt.annotate(\"  99.8%\", (13, 99.8))\n",
        "plt.annotate(\"  98.05%\", (18, 97.9))"
      ],
      "execution_count": null,
      "outputs": [
        {
          "output_type": "execute_result",
          "data": {
            "text/plain": [
              "Text(18, 97.9, '  98.05%')"
            ]
          },
          "metadata": {
            "tags": []
          },
          "execution_count": 8
        },
        {
          "output_type": "display_data",
          "data": {
            "image/png": "[encoded data removed]",
            "text/plain": [
              "<Figure size 432x288 with 1 Axes>"
            ]
          },
          "metadata": {
            "tags": [],
            "needs_background": "light"
          }
        }
      ]
    },
    {
      "cell_type": "code",
      "metadata": {
        "id": "QgdX11y-1Tbm",
        "colab": {
          "base_uri": "https://localhost:8080/"
        },
        "outputId": "0bd2e148-d34d-4713-f108-6c5e3bbcf0c9"
      },
      "source": [
        "#creating a dataFrame for the dataset\n",
        "def subject0(subjectno, sessionno, earname, bufferid):\n",
        "    dfu0=df.groupby(['subject', 'session', 'ear', 'buffer']).get_group((subjectno, sessionno, earname, bufferid)).iloc[-10:]\n",
        "    return dfu0\n",
        "\n",
        "x=subject0(34,0,'left','B')\n",
        "x['subject'].iloc[0]\n",
        "print(x.shape)\n",
        "print(x)"
      ],
      "execution_count": null,
      "outputs": [
        {
          "output_type": "stream",
          "text": [
            "(10, 666)\n",
            "      unnamed  subject  session   ear  ...  data_656  data_657  data_658  data_659\n",
            "2730    30662       34        0  left  ...  0.000009  0.000009  0.000009  0.000009\n",
            "2731    30663       34        0  left  ...  0.000010  0.000010  0.000010  0.000010\n",
            "2732    30664       34        0  left  ...  0.000010  0.000010  0.000010  0.000010\n",
            "2733    30665       34        0  left  ...  0.000010  0.000010  0.000010  0.000010\n",
            "2734    30666       34        0  left  ...  0.000010  0.000010  0.000010  0.000010\n",
            "2735    30667       34        0  left  ...  0.000010  0.000010  0.000010  0.000010\n",
            "2736    30668       34        0  left  ...  0.000010  0.000010  0.000010  0.000010\n",
            "2737    30669       34        0  left  ...  0.000010  0.000010  0.000010  0.000010\n",
            "2738    30670       34        0  left  ...  0.000009  0.000008  0.000008  0.000008\n",
            "2739    30671       34        0  left  ...  0.000009  0.000008  0.000008  0.000008\n",
            "\n",
            "[10 rows x 666 columns]\n"
          ],
          "name": "stdout"
        }
      ]
    },
    {
      "cell_type": "code",
      "metadata": {
        "id": "26e5G6zt1Tbo"
      },
      "source": [
        "#Creating Input and Labels DataFrame\n",
        "\n",
        "allInputTEOAEsignalsAllSubjects = pd.DataFrame([])\n",
        "allOutputLabelsAllSubjects = pd.DataFrame([])\n",
        "for a in range(40):\n",
        "    #print(a)\n",
        "    df1 = pd.DataFrame([])\n",
        "    b=[0,1]              # sessions 0 and 1\n",
        "    c=['left','right']   # ears \n",
        "    d=['A','B']          # buffers\n",
        "    \n",
        "    allFeatures =  pd.DataFrame([])\n",
        "    allInputFeatures =  pd.DataFrame([])\n",
        "    outputLabel =  pd.DataFrame([])\n",
        "    fftValues =  pd.DataFrame([])\n",
        "    psdValues =  pd.DataFrame([])\n",
        "    autocorrValues = pd.DataFrame([])\n",
        "        \n",
        "    for q,r,s in [(q,r,s) for q in b for r in c for s in d]:\n",
        "        \n",
        "        # df1 contains all the 80 TEOAE signals of subject a\n",
        "        df1 = df1.append(subject0(a,q,r,s))\n",
        "        allInputFeatures = df1.iloc[:,6:]\n",
        "    \n",
        "    allInputTEOAEsignalsAllSubjects = pd.concat([allInputTEOAEsignalsAllSubjects.reset_index(drop=True),\n",
        "                                                 allInputFeatures.reset_index(drop=True)], axis=0)\n",
        "    # the following gets you the class label <= subject no.[0,1,2,...,53]\n",
        "    outputLabel = df1.iloc[:,1] \n",
        "    #print(\"OutputLabel:\",outputLabel)\n",
        "    #allOutputLabelsAllSubjects = allOutputLabelsAllSubjects.append(outputLabel)\n",
        "    #append didn't work for output so using pd.cat instead\n",
        "    allOutputLabelsAllSubjects = pd.concat([allOutputLabelsAllSubjects.reset_index(drop=True),\n",
        "                                            outputLabel.reset_index(drop=True)], axis=0)\n",
        "    #print(allInputTEOAEsignalsAllSubjects.shape)\n",
        "    #print(allOutputLabelsAllSubjects.shape)\n"
      ],
      "execution_count": null,
      "outputs": []
    },
    {
      "cell_type": "code",
      "metadata": {
        "id": "gVxo9XZI8P1W"
      },
      "source": [
        "# save extracted dataframe locally\n",
        "X=pd.DataFrame([])\n",
        "y=pd.DataFrame([])\n",
        "xsave = pd.DataFrame([])\n",
        "ysave = pd.DataFrame([])\n",
        "X = allInputTEOAEsignalsAllSubjects\n",
        "y = allOutputLabelsAllSubjects\n",
        "xsave = X\n",
        "ysave = y\n",
        "xsave.to_pickle('dataX.pkl')\n",
        "ysave.to_pickle('labelY.pkl')"
      ],
      "execution_count": null,
      "outputs": []
    },
    {
      "cell_type": "code",
      "metadata": {
        "id": "XnfO1tmB8P4d"
      },
      "source": [
        "#Load from pkl files\n",
        "X = pd.read_pickle('dataX.pkl')\n",
        "y = pd.read_pickle('labelY.pkl')"
      ],
      "execution_count": null,
      "outputs": []
    },
    {
      "cell_type": "code",
      "metadata": {
        "id": "dBR8D00S8P7Z"
      },
      "source": [
        "#Splitting 80% for training and 20% for testing\n",
        "X_train, X_test, y_train, y_test = train_test_split(X, y, test_size=0.2, random_state=2)"
      ],
      "execution_count": null,
      "outputs": []
    },
    {
      "cell_type": "code",
      "metadata": {
        "id": "_WgbVaUs8P-h",
        "colab": {
          "base_uri": "https://localhost:8080/"
        },
        "outputId": "f93e9c4b-aafe-466c-8d51-304d242ba936"
      },
      "source": [
        "#Checking the dimensions of train and test array\n",
        "print(np.asarray(X_train).shape)\n",
        "print(np.asarray(X_test).shape)\n",
        "print(np.asarray(y_train).shape)\n",
        "print(np.asarray(y_test).shape)\n",
        "labels_train = list(map(lambda x: int(x), np.asarray(y_train)))\n",
        "print(np.asarray(labels_train).shape)"
      ],
      "execution_count": null,
      "outputs": [
        {
          "output_type": "stream",
          "text": [
            "(2560, 660)\n",
            "(640, 660)\n",
            "(2560, 1)\n",
            "(640, 1)\n",
            "(2560,)\n"
          ],
          "name": "stdout"
        }
      ]
    },
    {
      "cell_type": "code",
      "metadata": {
        "id": "mMyjL2mF8QBZ",
        "colab": {
          "base_uri": "https://localhost:8080/",
          "height": 268
        },
        "outputId": "afb4eb04-693c-4032-ed82-766f745ae2dc"
      },
      "source": [
        "# Check if continuous waves are similar to each other in X_train\n",
        "for i in range(1,5):\n",
        "    X_disp = X_train.iloc[i,:].values\n",
        "    plt.plot(X_disp)\n",
        "#Conclusion : NOPE!"
      ],
      "execution_count": null,
      "outputs": [
        {
          "output_type": "display_data",
          "data": {
            "image/png": "[encoded data removed]",
            "text/plain": [
              "<Figure size 432x288 with 1 Axes>"
            ]
          },
          "metadata": {
            "tags": [],
            "needs_background": "light"
          }
        }
      ]
    },
    {
      "cell_type": "code",
      "metadata": {
        "id": "4SLdoBFL8QEQ",
        "colab": {
          "base_uri": "https://localhost:8080/",
          "height": 163
        },
        "outputId": "516b3eec-d2d6-42e7-c2ed-498de9114032"
      },
      "source": [
        "#scales = range(1,661)\n",
        "scales = range(1,51)\n",
        "waveletname = 'morl'\n",
        "train_size = 3456\n",
        "test_size= 864\n",
        "\n",
        "#################################################\n",
        "### plotting CWT of a single TEOAE signal  ######\n",
        "#################################################\n",
        "coeff, freq = pywt.cwt(X_train.iloc[3,:], scales, waveletname, 1)\n",
        "plt.matshow(coeff,  cmap='PRGn', aspect='auto')\n",
        "plt.show()"
      ],
      "execution_count": null,
      "outputs": [
        {
          "output_type": "display_data",
          "data": {
            "image/png": "[encoded data removed]",
            "text/plain": [
              "<Figure size 1152x144 with 1 Axes>"
            ]
          },
          "metadata": {
            "tags": [],
            "needs_background": "light"
          }
        }
      ]
    },
    {
      "cell_type": "code",
      "metadata": {
        "id": "vT7Pg9mA8QHT"
      },
      "source": [
        "#CWT\n",
        "scales = range(1,51)\n",
        "waveletname = 'morl'\n",
        "train_size = X_train.shape[0]\n",
        "test_size= X_test.shape[0]\n",
        "\n",
        "#########################################################\n",
        "### creating a tensor to store CWT matrices of train egs#\n",
        "#########################################################\n",
        "train_data_cwt = np.ndarray(shape=(train_size, 50, 660)) \n",
        "\n",
        "for ii in range(0,train_size):\n",
        "    # if ii % 50 == 0: #len(X_train) == 0:\n",
        "    #     print(ii)\n",
        "    signal = X_train.iloc[ii, :]\n",
        "    coeff, freq = pywt.cwt(signal, scales, waveletname, 1)\n",
        "    coeff_ = coeff[:,:660]\n",
        "    train_data_cwt[ii, :, :] = coeff_\n",
        "    #train_data_cwt[:, :, ii] = coeff_\n",
        "\n",
        "###########################################################\n",
        "### creating a tensor to store CWT matrices of test egs ###\n",
        "###########################################################\n",
        "test_data_cwt = np.ndarray(shape=(test_size, 50, 660))\n",
        "\n",
        "for ii in range(0,test_size):\n",
        "    # if ii % 50 == 0:\n",
        "    #     print(ii)\n",
        "    signal = X_test.iloc[ii, :]\n",
        "    coeff, freq = pywt.cwt(signal, scales, waveletname, 1)\n",
        "    coeff_ = coeff[:,:660]\n",
        "    test_data_cwt[ii, :, :] = coeff_\n",
        "    #test_data_cwt[:, :, ii] = coeff_\n",
        "\n",
        "###########################################################\n",
        "### convert the labels from float to int of train and test egs\n",
        "###########################################################\n",
        "labels_train = list(map(lambda x: int(x), np.asarray(y_train)))\n",
        "labels_test = list(map(lambda x: int(x), np.asarray(y_test)))\n",
        "\n",
        "###########################################################\n",
        "### putting all the train and test CWT data             ###\n",
        "###########################################################\n",
        "x_train = train_data_cwt\n",
        "y_train = list(labels_train[:train_size])\n",
        "x_test = test_data_cwt\n",
        "y_test = list(labels_test[:test_size])"
      ],
      "execution_count": null,
      "outputs": []
    },
    {
      "cell_type": "code",
      "metadata": {
        "id": "SySas_2O8QJ8"
      },
      "source": [
        "#Convert the labels to array\n",
        "y_test_np = np.asarray(y_test)\n",
        "y_train_np = np.asarray(y_train)"
      ],
      "execution_count": null,
      "outputs": []
    },
    {
      "cell_type": "code",
      "metadata": {
        "id": "QtU39cmn8QM1",
        "colab": {
          "base_uri": "https://localhost:8080/"
        },
        "outputId": "4c26e488-d9ff-4949-f374-cdda5a7f17bd"
      },
      "source": [
        "#Printing shapes\n",
        "print(np.asarray(x_train).shape)\n",
        "print(np.asarray(x_test).shape)\n",
        "print(np.asarray(y_train).shape)\n",
        "print(np.asarray(y_test).shape)\n",
        "print(len(x_train))\n",
        "print(len(x_test))"
      ],
      "execution_count": null,
      "outputs": [
        {
          "output_type": "stream",
          "text": [
            "(2560, 50, 660)\n",
            "(640, 50, 660)\n",
            "(2560,)\n",
            "(640,)\n",
            "2560\n",
            "640\n"
          ],
          "name": "stdout"
        }
      ]
    },
    {
      "cell_type": "code",
      "metadata": {
        "id": "BlnYkCiw8QPd"
      },
      "source": [
        "# save numpy array\n",
        "np.save('x_train_CNN', x_train)\n",
        "np.save('x_test_CNN', x_test)\n",
        "np.save('y_test_CNN', y_test_np)\n",
        "np.save('y_train_CNN', y_train_np)"
      ],
      "execution_count": null,
      "outputs": []
    },
    {
      "cell_type": "code",
      "metadata": {
        "id": "iNxWlb3x8QSI"
      },
      "source": [
        "#load data\n",
        "x_train = np.load('x_train_CNN.npy')\n",
        "x_test = np.load('x_test_CNN.npy')\n",
        "y_train_np = np.load('y_train_CNN.npy')\n",
        "y_test_np = np.load('y_test_CNN.npy')"
      ],
      "execution_count": null,
      "outputs": []
    },
    {
      "cell_type": "code",
      "metadata": {
        "id": "F0f6LCkw-7mW",
        "colab": {
          "base_uri": "https://localhost:8080/"
        },
        "outputId": "ae0deeeb-3392-4e65-fef0-b2900f498bf6"
      },
      "source": [
        "#ResNet50:\n",
        "history = History()\n",
        " \n",
        "img_x = x_train.shape[1] # = no.of samples of each TEOAE signal = 660\n",
        "img_y = x_train.shape[2] \n",
        "img_z = 3\n",
        "\n",
        "in_shape = (img_x, img_y, img_z)\n",
        "print(in_shape)\n",
        "base_model = ResNet50(weights='imagenet',include_top=False,input_shape=in_shape,classes=40)"
      ],
      "execution_count": null,
      "outputs": [
        {
          "output_type": "stream",
          "text": [
            "(50, 660, 3)\n",
            "Downloading data from https://storage.googleapis.com/tensorflow/keras-applications/resnet/resnet50_weights_tf_dim_ordering_tf_kernels_notop.h5\n",
            "94773248/94765736 [==============================] - 1s 0us/step\n"
          ],
          "name": "stdout"
        }
      ]
    },
    {
      "cell_type": "code",
      "metadata": {
        "id": "kCs3e4KYCzZy",
        "colab": {
          "base_uri": "https://localhost:8080/"
        },
        "outputId": "a2b0ff2a-6833-4120-9537-0a8a23fc8b17"
      },
      "source": [
        "#ResNet50:\n",
        "model= Sequential()\n",
        "model.add(base_model)\n",
        "model.add(Flatten())\n",
        "model.add(Dense(40,activation=('softmax')))\n",
        "model.summary()"
      ],
      "execution_count": null,
      "outputs": [
        {
          "output_type": "stream",
          "text": [
            "Model: \"sequential\"\n",
            "_________________________________________________________________\n",
            "Layer (type)                 Output Shape              Param #   \n",
            "=================================================================\n",
            "resnet50 (Functional)        (None, 2, 21, 2048)       23587712  \n",
            "_________________________________________________________________\n",
            "flatten (Flatten)            (None, 86016)             0         \n",
            "_________________________________________________________________\n",
            "dense (Dense)                (None, 40)                3440680   \n",
            "=================================================================\n",
            "Total params: 27,028,392\n",
            "Trainable params: 26,975,272\n",
            "Non-trainable params: 53,120\n",
            "_________________________________________________________________\n"
          ],
          "name": "stdout"
        }
      ]
    },
    {
      "cell_type": "code",
      "metadata": {
        "id": "pe6wUD6bD3KW",
        "colab": {
          "base_uri": "https://localhost:8080/"
        },
        "outputId": "abad4e91-3470-4a30-9b6f-354674f6a8e5"
      },
      "source": [
        "#ResNet50:\n",
        "x_train = x_train.astype('float32')\n",
        "x_test = x_test.astype('float32')\n",
        "\n",
        "print(x_train.shape)\n",
        "print(x_test.shape)\n",
        "num_classes = 40\n",
        "\n",
        "\n",
        "\n",
        "\n",
        "x_train_cnn = x_train.reshape(2560,50,660,1)#len(x_train),img_x, img_y, img_z)\n",
        "x_test_cnn = x_test.reshape(640,50,660,1)#len(x_test),img_x, img_y, img_z)\n",
        "rgb_train = np.repeat(x_train_cnn, 3, -1)\n",
        "rgb_test = np.repeat(x_test_cnn,3,-1)\n",
        "y_train_cnn = keras.utils.to_categorical(y_train_np, num_classes)\n",
        "y_test_cnn = keras.utils.to_categorical(y_test_np, num_classes)"
      ],
      "execution_count": null,
      "outputs": [
        {
          "output_type": "stream",
          "text": [
            "(2560, 50, 660)\n",
            "(640, 50, 660)\n"
          ],
          "name": "stdout"
        }
      ]
    },
    {
      "cell_type": "code",
      "metadata": {
        "id": "xAoxi52HBJ2M"
      },
      "source": [
        "#Compile the Model\n",
        "model.compile(loss='categorical_crossentropy',\n",
        "              optimizer='adam',\n",
        "              metrics=['accuracy'])"
      ],
      "execution_count": null,
      "outputs": []
    },
    {
      "cell_type": "code",
      "metadata": {
        "colab": {
          "base_uri": "https://localhost:8080/"
        },
        "id": "lQgdhIM0s0Ep",
        "outputId": "ee22b235-1505-452a-ecf8-66cd9d1a8562"
      },
      "source": [
        "model.fit(rgb_train,y_train_cnn,epochs=5,batch_size=64,verbose=1)"
      ],
      "execution_count": null,
      "outputs": [
        {
          "output_type": "stream",
          "text": [
            "Epoch 1/5\n",
            "40/40 [==============================] - 1377s 34s/step - loss: 4.7531 - accuracy: 0.4470\n",
            "Epoch 2/5\n",
            "40/40 [==============================] - 1353s 34s/step - loss: 0.1301 - accuracy: 0.9887\n",
            "Epoch 3/5\n",
            "40/40 [==============================] - 1348s 34s/step - loss: 0.3769 - accuracy: 0.9854\n",
            "Epoch 4/5\n",
            "40/40 [==============================] - 1345s 34s/step - loss: 0.0427 - accuracy: 0.9915\n",
            "Epoch 5/5\n",
            "40/40 [==============================] - 1343s 34s/step - loss: 0.2775 - accuracy: 0.9740\n"
          ],
          "name": "stdout"
        },
        {
          "output_type": "execute_result",
          "data": {
            "text/plain": [
              "<tensorflow.python.keras.callbacks.History at 0x7efcce1cd110>"
            ]
          },
          "metadata": {
            "tags": []
          },
          "execution_count": 29
        }
      ]
    },
    {
      "cell_type": "code",
      "metadata": {
        "colab": {
          "base_uri": "https://localhost:8080/"
        },
        "id": "q4-ly153HUYY",
        "outputId": "8e669406-9fc7-4b46-cc65-dbf463273bde"
      },
      "source": [
        "# saving the model\n",
        "# evaluate the model\n",
        "scores = model.evaluate(rgb_train, y_train_cnn, verbose=0)\n",
        "print(\"%s: %.2f%%\" % (model.metrics_names[1], scores[1]*100))\n",
        "\n",
        "# serialize model to JSON\n",
        "model_json = model.to_json()\n",
        "with open(\"model.json\", \"w\") as json_file:\n",
        "    json_file.write(model_json)\n",
        "# serialize weights to HDF5\n",
        "model.save_weights(\"model_generalise.h5\")\n",
        "print(\"Saved model to disk\")"
      ],
      "execution_count": null,
      "outputs": [
        {
          "output_type": "stream",
          "text": [
            "accuracy: 2.70%\n",
            "Saved model to disk\n"
          ],
          "name": "stdout"
        }
      ]
    },
    {
      "cell_type": "code",
      "metadata": {
        "colab": {
          "base_uri": "https://localhost:8080/"
        },
        "id": "glJdpYBMHUb8",
        "outputId": "e6bcb8b0-3d03-46a3-87b6-71ebd338dc03"
      },
      "source": [
        "#importing the model for feature extraction\n",
        "# load json and create model\n",
        "from keras.models import model_from_json\n",
        "json_file = open('model.json', 'r')\n",
        "loaded_model_json = json_file.read()\n",
        "json_file.close()\n",
        "loaded_model = model_from_json(loaded_model_json)\n",
        "# load weights into new model\n",
        "loaded_model.load_weights(\"model_generalise.h5\")\n",
        "print(\"Loaded model from disk\")"
      ],
      "execution_count": null,
      "outputs": [
        {
          "output_type": "stream",
          "text": [
            "Loaded model from disk\n"
          ],
          "name": "stdout"
        }
      ]
    },
    {
      "cell_type": "code",
      "metadata": {
        "colab": {
          "base_uri": "https://localhost:8080/"
        },
        "id": "27zu4utQHUfb",
        "outputId": "2a08068f-4a0a-4e96-fc40-b1a23a76d95c"
      },
      "source": [
        "#loading the model\n",
        "from keras.models import Model\n",
        "\n",
        "model_14= Model(inputs=loaded_model.input, outputs=loaded_model.layers[-2].output)\n",
        "model_14.summary()"
      ],
      "execution_count": null,
      "outputs": [
        {
          "output_type": "stream",
          "text": [
            "Model: \"model\"\n",
            "_________________________________________________________________\n",
            "Layer (type)                 Output Shape              Param #   \n",
            "=================================================================\n",
            "resnet50_input (InputLayer)  [(None, 50, 660, 3)]      0         \n",
            "_________________________________________________________________\n",
            "resnet50 (Functional)        (None, 2, 21, 2048)       23587712  \n",
            "_________________________________________________________________\n",
            "flatten (Flatten)            (None, 86016)             0         \n",
            "=================================================================\n",
            "Total params: 23,587,712\n",
            "Trainable params: 23,534,592\n",
            "Non-trainable params: 53,120\n",
            "_________________________________________________________________\n"
          ],
          "name": "stdout"
        }
      ]
    },
    {
      "cell_type": "code",
      "metadata": {
        "colab": {
          "base_uri": "https://localhost:8080/"
        },
        "id": "bKfldKcsHUi6",
        "outputId": "d4d4809f-5ba2-4a41-900a-23dba4c8762d"
      },
      "source": [
        "#Creating Input and Labels DataFrame\n",
        "\n",
        "allInputTEOAEsignalsAllSubjects = pd.DataFrame([])\n",
        "allOutputLabelsAllSubjects = pd.DataFrame([])\n",
        "for a in range(40, 54):\n",
        "    print(a)\n",
        "    df1 = pd.DataFrame([])\n",
        "    b=[0,1]              # sessions 0 and 1\n",
        "    c=['left','right']   # ears \n",
        "    d=['A','B']          # buffers\n",
        "    \n",
        "    allFeatures =  pd.DataFrame([])\n",
        "    allInputFeatures =  pd.DataFrame([])\n",
        "    outputLabel =  pd.DataFrame([])\n",
        "    fftValues =  pd.DataFrame([])\n",
        "    psdValues =  pd.DataFrame([])\n",
        "    autocorrValues = pd.DataFrame([])\n",
        "        \n",
        "    for q,r,s in [(q,r,s) for q in b for r in c for s in d]:\n",
        "        \n",
        "        # df1 contains all the 80 TEOAE signals of subject a\n",
        "        df1 = df1.append(subject0(a,q,r,s))\n",
        "        allInputFeatures = df1.iloc[:,6:]\n",
        "    \n",
        "    allInputTEOAEsignalsAllSubjects = pd.concat([allInputTEOAEsignalsAllSubjects.reset_index(drop=True),\n",
        "                                                 allInputFeatures.reset_index(drop=True)], axis=0)\n",
        "    # the following gets you the class label <= subject no.[0,1,2,...,53]\n",
        "    outputLabel = df1.iloc[:,1] \n",
        "    print(\"OutputLabel:\",outputLabel)\n",
        "    #allOutputLabelsAllSubjects = allOutputLabelsAllSubjects.append(outputLabel)\n",
        "    #append didn't work for output so using pd.cat instead\n",
        "    allOutputLabelsAllSubjects = pd.concat([allOutputLabelsAllSubjects.reset_index(drop=True),\n",
        "                                            outputLabel.reset_index(drop=True)], axis=0)\n",
        "    print(allInputTEOAEsignalsAllSubjects.shape)\n",
        "    print(allOutputLabelsAllSubjects.shape)\n"
      ],
      "execution_count": null,
      "outputs": [
        {
          "output_type": "stream",
          "text": [
            "40\n",
            "OutputLabel: 3200    40\n",
            "3201    40\n",
            "3202    40\n",
            "3203    40\n",
            "3204    40\n",
            "        ..\n",
            "3275    40\n",
            "3276    40\n",
            "3277    40\n",
            "3278    40\n",
            "3279    40\n",
            "Name: subject, Length: 80, dtype: int64\n",
            "(80, 660)\n",
            "(80, 1)\n",
            "41\n",
            "OutputLabel: 3280    41\n",
            "3281    41\n",
            "3282    41\n",
            "3283    41\n",
            "3284    41\n",
            "        ..\n",
            "3355    41\n",
            "3356    41\n",
            "3357    41\n",
            "3358    41\n",
            "3359    41\n",
            "Name: subject, Length: 80, dtype: int64\n",
            "(160, 660)\n",
            "(160, 1)\n",
            "42\n",
            "OutputLabel: 3360    42\n",
            "3361    42\n",
            "3362    42\n",
            "3363    42\n",
            "3364    42\n",
            "        ..\n",
            "3435    42\n",
            "3436    42\n",
            "3437    42\n",
            "3438    42\n",
            "3439    42\n",
            "Name: subject, Length: 80, dtype: int64\n",
            "(240, 660)\n",
            "(240, 1)\n",
            "43\n",
            "OutputLabel: 3440    43\n",
            "3441    43\n",
            "3442    43\n",
            "3443    43\n",
            "3444    43\n",
            "        ..\n",
            "3515    43\n",
            "3516    43\n",
            "3517    43\n",
            "3518    43\n",
            "3519    43\n",
            "Name: subject, Length: 80, dtype: int64\n",
            "(320, 660)\n",
            "(320, 1)\n",
            "44\n",
            "OutputLabel: 3520    44\n",
            "3521    44\n",
            "3522    44\n",
            "3523    44\n",
            "3524    44\n",
            "        ..\n",
            "3595    44\n",
            "3596    44\n",
            "3597    44\n",
            "3598    44\n",
            "3599    44\n",
            "Name: subject, Length: 80, dtype: int64\n",
            "(400, 660)\n",
            "(400, 1)\n",
            "45\n",
            "OutputLabel: 3600    45\n",
            "3601    45\n",
            "3602    45\n",
            "3603    45\n",
            "3604    45\n",
            "        ..\n",
            "3675    45\n",
            "3676    45\n",
            "3677    45\n",
            "3678    45\n",
            "3679    45\n",
            "Name: subject, Length: 80, dtype: int64\n",
            "(480, 660)\n",
            "(480, 1)\n",
            "46\n",
            "OutputLabel: 3680    46\n",
            "3681    46\n",
            "3682    46\n",
            "3683    46\n",
            "3684    46\n",
            "        ..\n",
            "3755    46\n",
            "3756    46\n",
            "3757    46\n",
            "3758    46\n",
            "3759    46\n",
            "Name: subject, Length: 80, dtype: int64\n",
            "(560, 660)\n",
            "(560, 1)\n",
            "47\n",
            "OutputLabel: 3760    47\n",
            "3761    47\n",
            "3762    47\n",
            "3763    47\n",
            "3764    47\n",
            "        ..\n",
            "3835    47\n",
            "3836    47\n",
            "3837    47\n",
            "3838    47\n",
            "3839    47\n",
            "Name: subject, Length: 80, dtype: int64\n",
            "(640, 660)\n",
            "(640, 1)\n",
            "48\n",
            "OutputLabel: 3840    48\n",
            "3841    48\n",
            "3842    48\n",
            "3843    48\n",
            "3844    48\n",
            "        ..\n",
            "3915    48\n",
            "3916    48\n",
            "3917    48\n",
            "3918    48\n",
            "3919    48\n",
            "Name: subject, Length: 80, dtype: int64\n",
            "(720, 660)\n",
            "(720, 1)\n",
            "49\n",
            "OutputLabel: 3920    49\n",
            "3921    49\n",
            "3922    49\n",
            "3923    49\n",
            "3924    49\n",
            "        ..\n",
            "3995    49\n",
            "3996    49\n",
            "3997    49\n",
            "3998    49\n",
            "3999    49\n",
            "Name: subject, Length: 80, dtype: int64\n",
            "(800, 660)\n",
            "(800, 1)\n",
            "50\n",
            "OutputLabel: 4000    50\n",
            "4001    50\n",
            "4002    50\n",
            "4003    50\n",
            "4004    50\n",
            "        ..\n",
            "4075    50\n",
            "4076    50\n",
            "4077    50\n",
            "4078    50\n",
            "4079    50\n",
            "Name: subject, Length: 80, dtype: int64\n",
            "(880, 660)\n",
            "(880, 1)\n",
            "51\n",
            "OutputLabel: 4080    51\n",
            "4081    51\n",
            "4082    51\n",
            "4083    51\n",
            "4084    51\n",
            "        ..\n",
            "4155    51\n",
            "4156    51\n",
            "4157    51\n",
            "4158    51\n",
            "4159    51\n",
            "Name: subject, Length: 80, dtype: int64\n",
            "(960, 660)\n",
            "(960, 1)\n",
            "52\n",
            "OutputLabel: 4160    52\n",
            "4161    52\n",
            "4162    52\n",
            "4163    52\n",
            "4164    52\n",
            "        ..\n",
            "4235    52\n",
            "4236    52\n",
            "4237    52\n",
            "4238    52\n",
            "4239    52\n",
            "Name: subject, Length: 80, dtype: int64\n",
            "(1040, 660)\n",
            "(1040, 1)\n",
            "53\n",
            "OutputLabel: 4240    53\n",
            "4241    53\n",
            "4242    53\n",
            "4243    53\n",
            "4244    53\n",
            "        ..\n",
            "4315    53\n",
            "4316    53\n",
            "4317    53\n",
            "4318    53\n",
            "4319    53\n",
            "Name: subject, Length: 80, dtype: int64\n",
            "(1120, 660)\n",
            "(1120, 1)\n"
          ],
          "name": "stdout"
        }
      ]
    },
    {
      "cell_type": "code",
      "metadata": {
        "id": "2ZJPW2bTHUmE"
      },
      "source": [
        "# save extracted dataframe locally\n",
        "X=pd.DataFrame([])\n",
        "y=pd.DataFrame([])\n",
        "xsave = pd.DataFrame([])\n",
        "ysave = pd.DataFrame([])\n",
        "X = allInputTEOAEsignalsAllSubjects\n",
        "y = allOutputLabelsAllSubjects\n",
        "xsave = X\n",
        "ysave = y\n",
        "#xsave.to_pickle('dataX.pkl')"
      ],
      "execution_count": null,
      "outputs": []
    },
    {
      "cell_type": "code",
      "metadata": {
        "id": "ierBJ6zNIPmV"
      },
      "source": [
        "#Splitting 80% for training and 20% for testing\n",
        "X_train, X_test, y_train, y_test = train_test_split(X, y, test_size=0.2, random_state=2)"
      ],
      "execution_count": null,
      "outputs": []
    },
    {
      "cell_type": "code",
      "metadata": {
        "colab": {
          "base_uri": "https://localhost:8080/"
        },
        "id": "JH8OKbvCIPup",
        "outputId": "992bcf01-bb97-4336-930d-bad93ae37f8b"
      },
      "source": [
        "#Checking the dimensions of train and test array\n",
        "print(np.asarray(X_train).shape)\n",
        "print(np.asarray(X_test).shape)\n",
        "print(np.asarray(y_train).shape)\n",
        "print(np.asarray(y_test).shape)\n",
        "labels_train = list(map(lambda x: int(x), np.asarray(y_train)))\n",
        "print(np.asarray(labels_train).shape)"
      ],
      "execution_count": null,
      "outputs": [
        {
          "output_type": "stream",
          "text": [
            "(896, 660)\n",
            "(224, 660)\n",
            "(896, 1)\n",
            "(224, 1)\n",
            "(896,)\n"
          ],
          "name": "stdout"
        }
      ]
    },
    {
      "cell_type": "code",
      "metadata": {
        "colab": {
          "base_uri": "https://localhost:8080/"
        },
        "id": "4lMgZDUBIeag",
        "outputId": "62d7b702-32b0-475a-a269-b225d2a6736a"
      },
      "source": [
        "t0=time.process_time()\n",
        "scales = range(1,51)\n",
        "waveletname = 'morl'\n",
        "train_size = X_train.shape[0]\n",
        "test_size= X_test.shape[0]\n",
        "\n",
        "#########################################################\n",
        "### creating a tensor to store CWT matrices of train egs#\n",
        "#########################################################\n",
        "train_data_cwt = np.ndarray(shape=(train_size, 50, 660)) \n",
        "\n",
        "for ii in range(0,train_size):\n",
        "    if ii % 50 == 0: #len(X_train) == 0:\n",
        "        print(ii)\n",
        "    signal = X_train.iloc[ii, :]\n",
        "    coeff, freq = pywt.cwt(signal, scales, waveletname, 1)\n",
        "    coeff_ = coeff[:,:660]\n",
        "    train_data_cwt[ii, :, :] = coeff_\n",
        "    #train_data_cwt[:, :, ii] = coeff_\n",
        "\n",
        "###########################################################\n",
        "### creating a tensor to store CWT matrices of test egs ###\n",
        "###########################################################\n",
        "test_data_cwt = np.ndarray(shape=(test_size, 50, 660))\n",
        "\n",
        "for ii in range(0,test_size):\n",
        "    if ii % 50 == 0:\n",
        "        print(ii)\n",
        "    signal = X_test.iloc[ii, :]\n",
        "    coeff, freq = pywt.cwt(signal, scales, waveletname, 1)\n",
        "    coeff_ = coeff[:,:660]\n",
        "    test_data_cwt[ii, :, :] = coeff_\n",
        "    #test_data_cwt[:, :, ii] = coeff_\n",
        "\n",
        "###########################################################\n",
        "### convert the labels from float to int of train and test egs\n",
        "###########################################################\n",
        "labels_train = list(map(lambda x: int(x), np.asarray(y_train)))\n",
        "labels_test = list(map(lambda x: int(x), np.asarray(y_test)))\n",
        "\n",
        "###########################################################\n",
        "### putting all the train and test CWT data             ###\n",
        "###########################################################\n",
        "x_train = train_data_cwt\n",
        "y_train = list(labels_train[:train_size])\n",
        "x_test = test_data_cwt\n",
        "y_test = list(labels_test[:test_size])\n",
        "t1=time.process_time()-t0\n",
        "print(\"time taken: \",t1)"
      ],
      "execution_count": null,
      "outputs": [
        {
          "output_type": "stream",
          "text": [
            "0\n",
            "50\n",
            "100\n",
            "150\n",
            "200\n",
            "250\n",
            "300\n",
            "350\n",
            "400\n",
            "450\n",
            "500\n",
            "550\n",
            "600\n",
            "650\n",
            "700\n",
            "750\n",
            "800\n",
            "850\n",
            "0\n",
            "50\n",
            "100\n",
            "150\n",
            "200\n",
            "time taken:  10.138059950000752\n"
          ],
          "name": "stdout"
        }
      ]
    },
    {
      "cell_type": "code",
      "metadata": {
        "id": "W5znICdpIo-K"
      },
      "source": [
        "#Convert the labels to array\n",
        "y_test_np = np.asarray(y_test)\n",
        "y_train_np = np.asarray(y_train)"
      ],
      "execution_count": null,
      "outputs": []
    },
    {
      "cell_type": "code",
      "metadata": {
        "colab": {
          "base_uri": "https://localhost:8080/"
        },
        "id": "_xbnf9ZSIoy5",
        "outputId": "3e466634-4ae3-44f0-c002-042405922b6d"
      },
      "source": [
        "print(np.asarray(x_train).shape)\n",
        "print(np.asarray(x_test).shape)\n",
        "print(np.asarray(y_train).shape)\n",
        "print(np.asarray(y_test).shape)\n",
        "print(len(x_train))\n",
        "print(len(x_test))"
      ],
      "execution_count": null,
      "outputs": [
        {
          "output_type": "stream",
          "text": [
            "(896, 50, 660)\n",
            "(224, 50, 660)\n",
            "(896,)\n",
            "(224,)\n",
            "896\n",
            "224\n"
          ],
          "name": "stdout"
        }
      ]
    },
    {
      "cell_type": "code",
      "metadata": {
        "id": "TTGK_vN8IomB"
      },
      "source": [
        "#Compile the Model\n",
        "model_14.compile(loss='categorical_crossentropy',\n",
        "              optimizer='adam',\n",
        "              metrics=['accuracy'])"
      ],
      "execution_count": null,
      "outputs": []
    },
    {
      "cell_type": "code",
      "metadata": {
        "colab": {
          "base_uri": "https://localhost:8080/"
        },
        "id": "5-mL9i6jIx7W",
        "outputId": "aa96709c-c0ff-4049-e3a9-37fe72ffb8a1"
      },
      "source": [
        "x_train = x_train.astype('float32')\n",
        "x_test = x_test.astype('float32')\n",
        "\n",
        "print(x_train.shape)\n",
        "print(x_test.shape)\n",
        "num_classes = 14\n",
        "\n",
        "x_train_cnn = x_train.reshape(896,50,660,1)#len(x_train),img_x, img_y, img_z)\n",
        "x_test_cnn = x_test.reshape(224,50,660,1)#len(x_test),img_x, img_y, img_z)\n",
        "rgb_train = np.repeat(x_train_cnn, 3, -1)\n",
        "rgb_test = np.repeat(x_test_cnn,3,-1)\n",
        "#y_train_cnn = keras.utils.to_categorical(y_train_np, num_classes)\n",
        "#y_test_cnn = keras.utils.to_categorical(y_test_np, num_classes)"
      ],
      "execution_count": null,
      "outputs": [
        {
          "output_type": "stream",
          "text": [
            "(896, 50, 660)\n",
            "(224, 50, 660)\n"
          ],
          "name": "stdout"
        }
      ]
    },
    {
      "cell_type": "code",
      "metadata": {
        "colab": {
          "base_uri": "https://localhost:8080/"
        },
        "id": "uKRDuZmcIxzJ",
        "outputId": "0f4cfa2b-480f-4dbb-893b-9173a3dfedf4"
      },
      "source": [
        "print(rgb_train.shape)\n",
        "print(rgb_test.shape)\n"
      ],
      "execution_count": null,
      "outputs": [
        {
          "output_type": "stream",
          "text": [
            "(896, 50, 660, 3)\n",
            "(224, 50, 660, 3)\n"
          ],
          "name": "stdout"
        }
      ]
    },
    {
      "cell_type": "code",
      "metadata": {
        "id": "TJHHh485I21N"
      },
      "source": [
        ""
      ],
      "execution_count": null,
      "outputs": []
    },
    {
      "cell_type": "code",
      "metadata": {
        "id": "MFtAcd1iBJ2Q",
        "colab": {
          "base_uri": "https://localhost:8080/"
        },
        "outputId": "9b355c1e-1f1c-4b6f-8e27-c4e611be1b9d"
      },
      "source": [
        "#obtain the flattened output for training\n",
        "t0=time.clock()\n",
        "features_xtrain=model.predict(rgb_train) #training\n",
        "features_xtrain.shape\n",
        "t1=time.clock()-t0\n",
        "print(t1)\n"
      ],
      "execution_count": null,
      "outputs": [
        {
          "output_type": "stream",
          "text": [
            "/usr/local/lib/python3.7/dist-packages/ipykernel_launcher.py:2: DeprecationWarning: time.clock has been deprecated in Python 3.3 and will be removed from Python 3.8: use time.perf_counter or time.process_time instead\n",
            "  \n"
          ],
          "name": "stderr"
        },
        {
          "output_type": "stream",
          "text": [
            "205.91075999999885\n"
          ],
          "name": "stdout"
        },
        {
          "output_type": "stream",
          "text": [
            "/usr/local/lib/python3.7/dist-packages/ipykernel_launcher.py:5: DeprecationWarning: time.clock has been deprecated in Python 3.3 and will be removed from Python 3.8: use time.perf_counter or time.process_time instead\n",
            "  \"\"\"\n"
          ],
          "name": "stderr"
        }
      ]
    },
    {
      "cell_type": "code",
      "metadata": {
        "id": "77IXWY03BJ2T",
        "colab": {
          "base_uri": "https://localhost:8080/"
        },
        "outputId": "2c1d173f-6bf8-4f90-ce52-cae18bcbdde8"
      },
      "source": [
        "#Flattened output for Testing\n",
        "t0=time.clock()\n",
        "features_xtest=model.predict(rgb_test) #testing\n",
        "features_xtest.shape\n",
        "t1=time.clock()-t0\n",
        "print(t1)"
      ],
      "execution_count": null,
      "outputs": [
        {
          "output_type": "stream",
          "text": [
            "/usr/local/lib/python3.7/dist-packages/ipykernel_launcher.py:2: DeprecationWarning: time.clock has been deprecated in Python 3.3 and will be removed from Python 3.8: use time.perf_counter or time.process_time instead\n",
            "  \n"
          ],
          "name": "stderr"
        },
        {
          "output_type": "stream",
          "text": [
            "50.92444400000022\n"
          ],
          "name": "stdout"
        },
        {
          "output_type": "stream",
          "text": [
            "/usr/local/lib/python3.7/dist-packages/ipykernel_launcher.py:5: DeprecationWarning: time.clock has been deprecated in Python 3.3 and will be removed from Python 3.8: use time.perf_counter or time.process_time instead\n",
            "  \"\"\"\n"
          ],
          "name": "stderr"
        }
      ]
    },
    {
      "cell_type": "code",
      "metadata": {
        "id": "C8-7KDswBJ2V",
        "colab": {
          "base_uri": "https://localhost:8080/"
        },
        "outputId": "ce10d96a-8b59-4a29-e03b-eae4a406eafc"
      },
      "source": [
        "# PCA on the flattened array\n",
        "t0=time.clock()\n",
        "scaler = StandardScaler()\n",
        "scaler.fit(features_xtrain)\n",
        "\n",
        "features_xtrain = scaler.transform(features_xtrain)\n",
        "features_xtest = scaler.transform(features_xtest)\n",
        "\n",
        "pca = PCA(.95)  #using 95% of the variance in the model.\n",
        "\n",
        "pca.fit(features_xtrain)\n",
        "\n",
        "features_xtrain = pca.transform(features_xtrain)\n",
        "features_xtest = pca.transform(features_xtest)\n",
        "t1=time.clock()-t0\n",
        "print(t1)"
      ],
      "execution_count": null,
      "outputs": [
        {
          "output_type": "stream",
          "text": [
            "0.03654900000037742\n"
          ],
          "name": "stdout"
        },
        {
          "output_type": "stream",
          "text": [
            "/usr/local/lib/python3.7/dist-packages/ipykernel_launcher.py:2: DeprecationWarning: time.clock has been deprecated in Python 3.3 and will be removed from Python 3.8: use time.perf_counter or time.process_time instead\n",
            "  \n",
            "/usr/local/lib/python3.7/dist-packages/ipykernel_launcher.py:15: DeprecationWarning: time.clock has been deprecated in Python 3.3 and will be removed from Python 3.8: use time.perf_counter or time.process_time instead\n",
            "  from ipykernel import kernelapp as app\n"
          ],
          "name": "stderr"
        }
      ]
    },
    {
      "cell_type": "code",
      "metadata": {
        "id": "1kYyiyIo1TcW",
        "colab": {
          "base_uri": "https://localhost:8080/"
        },
        "outputId": "fb40d963-73be-496d-d22c-9259d3635689"
      },
      "source": [
        "#SVM classifier\n",
        "t0=time.clock()\n",
        "svm=SVC()\n",
        "svm.fit(features_xtrain,y_train_np)\n",
        "\n",
        "#training accuracy\n",
        "acc_svm_train=round(svm.score(features_xtrain,y_train_np)*100,2)\n",
        "print(\"Training Accuracy:\",acc_svm_train)\n",
        "\n",
        "#testing accuracy\n",
        "acc_svm_test=round(svm.score(features_xtest,y_test_np)*100,2)\n",
        "print(\"Testing accuracy:\",acc_svm_test)\n",
        "t1=time.clock()-t0\n",
        "print(t1)"
      ],
      "execution_count": null,
      "outputs": [
        {
          "output_type": "stream",
          "text": [
            "Training Accuracy: 85.38\n",
            "Testing accuracy: 83.48\n",
            "0.05902400000013586\n"
          ],
          "name": "stdout"
        },
        {
          "output_type": "stream",
          "text": [
            "/usr/local/lib/python3.7/dist-packages/ipykernel_launcher.py:2: DeprecationWarning: time.clock has been deprecated in Python 3.3 and will be removed from Python 3.8: use time.perf_counter or time.process_time instead\n",
            "  \n",
            "/usr/local/lib/python3.7/dist-packages/ipykernel_launcher.py:13: DeprecationWarning: time.clock has been deprecated in Python 3.3 and will be removed from Python 3.8: use time.perf_counter or time.process_time instead\n",
            "  del sys.path[0]\n"
          ],
          "name": "stderr"
        }
      ]
    },
    {
      "cell_type": "code",
      "metadata": {
        "id": "6sN-wJUs1Tca",
        "colab": {
          "base_uri": "https://localhost:8080/"
        },
        "outputId": "50134af1-5d51-4629-bf0b-690cc925bbb8"
      },
      "source": [
        "# MLP classification\n",
        "t0=time.clock()\n",
        "mlp_clf = MLPClassifier(hidden_layer_sizes=(100,150,100), max_iter=50, alpha=0.0001,\n",
        "                     solver='adam', verbose=10,  random_state=0,tol=0.000001)\n",
        "mlp_clf.fit(features_xtrain, y_train_np)\n",
        "\n",
        "pred_test = mlp_clf.predict(features_xtest) #testing accuracy\n",
        "print(accuracy_score(y_test_np, pred_test)*100)\n",
        "t1=time.clock()-t0\n",
        "print(t1)"
      ],
      "execution_count": null,
      "outputs": [
        {
          "output_type": "stream",
          "text": [
            "/usr/local/lib/python3.7/dist-packages/ipykernel_launcher.py:2: DeprecationWarning: time.clock has been deprecated in Python 3.3 and will be removed from Python 3.8: use time.perf_counter or time.process_time instead\n",
            "  \n"
          ],
          "name": "stderr"
        },
        {
          "output_type": "stream",
          "text": [
            "Iteration 1, loss = 2.61517073\n",
            "Iteration 2, loss = 2.25502436\n",
            "Iteration 3, loss = 2.02302934\n",
            "Iteration 4, loss = 1.82356279\n",
            "Iteration 5, loss = 1.62855865\n",
            "Iteration 6, loss = 1.44563255\n",
            "Iteration 7, loss = 1.27551743\n",
            "Iteration 8, loss = 1.13216381\n",
            "Iteration 9, loss = 1.00886119\n",
            "Iteration 10, loss = 0.89756325\n",
            "Iteration 11, loss = 0.80402501\n",
            "Iteration 12, loss = 0.72220905\n",
            "Iteration 13, loss = 0.65262210\n",
            "Iteration 14, loss = 0.59128540\n",
            "Iteration 15, loss = 0.53994665\n",
            "Iteration 16, loss = 0.49766382\n",
            "Iteration 17, loss = 0.46201998\n",
            "Iteration 18, loss = 0.42842970\n",
            "Iteration 19, loss = 0.39607618\n",
            "Iteration 20, loss = 0.37040614\n",
            "Iteration 21, loss = 0.34945397\n",
            "Iteration 22, loss = 0.32637155\n",
            "Iteration 23, loss = 0.30902986\n",
            "Iteration 24, loss = 0.29320775\n",
            "Iteration 25, loss = 0.27898817\n",
            "Iteration 26, loss = 0.26650311\n",
            "Iteration 27, loss = 0.25334018\n",
            "Iteration 28, loss = 0.23883639\n",
            "Iteration 29, loss = 0.22923387\n",
            "Iteration 30, loss = 0.21918990\n",
            "Iteration 31, loss = 0.21196689\n",
            "Iteration 32, loss = 0.20257808\n",
            "Iteration 33, loss = 0.19718566\n",
            "Iteration 34, loss = 0.18975226\n",
            "Iteration 35, loss = 0.18752390\n",
            "Iteration 36, loss = 0.17986966\n",
            "Iteration 37, loss = 0.17220574\n",
            "Iteration 38, loss = 0.16359861\n",
            "Iteration 39, loss = 0.15680869\n",
            "Iteration 40, loss = 0.15080130\n",
            "Iteration 41, loss = 0.14835967\n",
            "Iteration 42, loss = 0.14479863\n",
            "Iteration 43, loss = 0.13799694\n",
            "Iteration 44, loss = 0.13972205\n",
            "Iteration 45, loss = 0.13646908\n",
            "Iteration 46, loss = 0.13407148\n",
            "Iteration 47, loss = 0.12502367\n",
            "Iteration 48, loss = 0.12227467\n",
            "Iteration 49, loss = 0.12137416\n",
            "Iteration 50, loss = 0.11569416\n",
            "96.42857142857143\n",
            "2.6226989999995567\n"
          ],
          "name": "stdout"
        },
        {
          "output_type": "stream",
          "text": [
            "/usr/local/lib/python3.7/dist-packages/sklearn/neural_network/_multilayer_perceptron.py:571: ConvergenceWarning: Stochastic Optimizer: Maximum iterations (50) reached and the optimization hasn't converged yet.\n",
            "  % self.max_iter, ConvergenceWarning)\n",
            "/usr/local/lib/python3.7/dist-packages/ipykernel_launcher.py:9: DeprecationWarning: time.clock has been deprecated in Python 3.3 and will be removed from Python 3.8: use time.perf_counter or time.process_time instead\n",
            "  if __name__ == '__main__':\n"
          ],
          "name": "stderr"
        }
      ]
    },
    {
      "cell_type": "code",
      "metadata": {
        "id": "0YJicEee1Tcc",
        "colab": {
          "base_uri": "https://localhost:8080/",
          "height": 592
        },
        "outputId": "5df34fdb-40c9-48ae-f85d-30a392286bf8"
      },
      "source": [
        "# Plotting the Confusion matrix\n",
        "cm = confusion_matrix(y_test_np, pred_test)\n",
        "plt.figure(figsize=(12,10))\n",
        "sns.heatmap(cm, center=True, cmap='coolwarm')\n",
        "plt.show()"
      ],
      "execution_count": null,
      "outputs": [
        {
          "output_type": "display_data",
          "data": {
            "image/png": "[encoded data removed]",
            "text/plain": [
              "<Figure size 864x720 with 2 Axes>"
            ]
          },
          "metadata": {
            "tags": [],
            "needs_background": "light"
          }
        }
      ]
    },
    {
      "cell_type": "code",
      "metadata": {
        "id": "v6Z6cwh51Tce",
        "colab": {
          "base_uri": "https://localhost:8080/"
        },
        "outputId": "b8f88909-f89d-4a2d-b39c-57702abad83c"
      },
      "source": [
        "#Random Forest Classifier\n",
        "\n",
        "# Create the model with 100 trees\n",
        "\n",
        "t0=time.clock()\n",
        "model_rf = RandomForestClassifier(n_estimators=100, \n",
        "                               bootstrap = True,\n",
        "                               max_features = 'sqrt')\n",
        "\n",
        "model_rf.fit(features_xtrain, y_train_np)\n",
        "pred_test = model_rf.predict(features_xtest) #testing accuracy\n",
        "\n",
        "print(accuracy_score(y_test_np, pred_test)*100)\n",
        "t1=time.clock()-t0\n",
        "print(t1)"
      ],
      "execution_count": null,
      "outputs": [
        {
          "output_type": "stream",
          "text": [
            "/usr/local/lib/python3.7/dist-packages/ipykernel_launcher.py:5: DeprecationWarning: time.clock has been deprecated in Python 3.3 and will be removed from Python 3.8: use time.perf_counter or time.process_time instead\n",
            "  \"\"\"\n"
          ],
          "name": "stderr"
        },
        {
          "output_type": "stream",
          "text": [
            "98.66071428571429\n",
            "0.2758140000005369\n"
          ],
          "name": "stdout"
        },
        {
          "output_type": "stream",
          "text": [
            "/usr/local/lib/python3.7/dist-packages/ipykernel_launcher.py:14: DeprecationWarning: time.clock has been deprecated in Python 3.3 and will be removed from Python 3.8: use time.perf_counter or time.process_time instead\n",
            "  \n"
          ],
          "name": "stderr"
        }
      ]
    },
    {
      "cell_type": "code",
      "metadata": {
        "id": "my6qkUw81Tch",
        "colab": {
          "base_uri": "https://localhost:8080/",
          "height": 592
        },
        "outputId": "f966b28c-e0e2-4957-aa9b-fa1f1b5da23d"
      },
      "source": [
        "# Plotting the Confusion matrix\n",
        "cm = confusion_matrix(y_test_np, pred_test)\n",
        "\n",
        "plt.figure(figsize=(12,10))\n",
        "sns.heatmap(cm, center=True, cmap='coolwarm')\n",
        "plt.show()"
      ],
      "execution_count": null,
      "outputs": [
        {
          "output_type": "display_data",
          "data": {
            "image/png": "[encoded data removed]",
            "text/plain": [
              "<Figure size 864x720 with 2 Axes>"
            ]
          },
          "metadata": {
            "tags": [],
            "needs_background": "light"
          }
        }
      ]
    },
    {
      "cell_type": "code",
      "metadata": {
        "id": "0iPiCu-d1Tcj",
        "colab": {
          "base_uri": "https://localhost:8080/"
        },
        "outputId": "81aa0ed5-15a3-4f60-a685-ff533b58b884"
      },
      "source": [
        "# K nearest neighbours algorithm \n",
        "t0=time.clock()\n",
        "knn = KNeighborsClassifier(n_neighbors=5) \n",
        "knn.fit(features_xtrain, y_train_np) \n",
        "pred_test = knn.predict(features_xtest) #testing accuracy\n",
        "print(accuracy_score(y_test_np, pred_test)*100)\n",
        "t1=time.clock()-t0\n",
        "print(t1)"
      ],
      "execution_count": null,
      "outputs": [
        {
          "output_type": "stream",
          "text": [
            "99.55357142857143\n",
            "0.01515800000015588\n"
          ],
          "name": "stdout"
        },
        {
          "output_type": "stream",
          "text": [
            "/usr/local/lib/python3.7/dist-packages/ipykernel_launcher.py:2: DeprecationWarning: time.clock has been deprecated in Python 3.3 and will be removed from Python 3.8: use time.perf_counter or time.process_time instead\n",
            "  \n",
            "/usr/local/lib/python3.7/dist-packages/ipykernel_launcher.py:7: DeprecationWarning: time.clock has been deprecated in Python 3.3 and will be removed from Python 3.8: use time.perf_counter or time.process_time instead\n",
            "  import sys\n"
          ],
          "name": "stderr"
        }
      ]
    },
    {
      "cell_type": "code",
      "metadata": {
        "id": "QppwkUHl1Tcl",
        "colab": {
          "base_uri": "https://localhost:8080/",
          "height": 592
        },
        "outputId": "46e0c3c1-459e-4a34-ae17-68bc71e1f629"
      },
      "source": [
        "cm = confusion_matrix(y_test_np, pred_test)\n",
        "\n",
        "plt.figure(figsize=(12,10))\n",
        "sns.heatmap(cm, center=True, cmap='coolwarm')\n",
        "plt.show()"
      ],
      "execution_count": null,
      "outputs": [
        {
          "output_type": "display_data",
          "data": {
            "image/png": "[encoded data removed]",
            "text/plain": [
              "<Figure size 864x720 with 2 Axes>"
            ]
          },
          "metadata": {
            "tags": [],
            "needs_background": "light"
          }
        }
      ]
    },
    {
      "cell_type": "code",
      "metadata": {
        "id": "7HInBQtG1Tcn",
        "colab": {
          "base_uri": "https://localhost:8080/"
        },
        "outputId": "722f04d7-cba4-44cc-d01f-acd328be8a32"
      },
      "source": [
        "# XGBoost classifier\n",
        "t0=time.clock()\n",
        "from xgboost import XGBClassifier\n",
        "model = XGBClassifier()\n",
        "model.fit(features_xtrain, y_train_np)\n",
        "pred_test = model.predict(features_xtest) #testing accuracy\n",
        "print(accuracy_score(y_test_np, pred_test)*100)\n",
        "t1=time.clock()-t0\n",
        "print(t1)"
      ],
      "execution_count": null,
      "outputs": [
        {
          "output_type": "stream",
          "text": [
            "/usr/local/lib/python3.7/dist-packages/ipykernel_launcher.py:2: DeprecationWarning: time.clock has been deprecated in Python 3.3 and will be removed from Python 3.8: use time.perf_counter or time.process_time instead\n",
            "  \n"
          ],
          "name": "stderr"
        },
        {
          "output_type": "stream",
          "text": [
            "96.42857142857143\n",
            "0.5869800000000396\n"
          ],
          "name": "stdout"
        },
        {
          "output_type": "stream",
          "text": [
            "/usr/local/lib/python3.7/dist-packages/ipykernel_launcher.py:8: DeprecationWarning: time.clock has been deprecated in Python 3.3 and will be removed from Python 3.8: use time.perf_counter or time.process_time instead\n",
            "  \n"
          ],
          "name": "stderr"
        }
      ]
    },
    {
      "cell_type": "code",
      "metadata": {
        "id": "9y3szKcj1Tcp",
        "colab": {
          "base_uri": "https://localhost:8080/",
          "height": 592
        },
        "outputId": "32a1475b-2c3a-446c-ce31-24e212b12d59"
      },
      "source": [
        "cm = confusion_matrix(y_test_np, pred_test)\n",
        "\n",
        "plt.figure(figsize=(12,10))\n",
        "sns.heatmap(cm, center=True, cmap='coolwarm')\n",
        "plt.show()"
      ],
      "execution_count": null,
      "outputs": [
        {
          "output_type": "display_data",
          "data": {
            "image/png": "[encoded data removed]",
            "text/plain": [
              "<Figure size 864x720 with 2 Axes>"
            ]
          },
          "metadata": {
            "tags": [],
            "needs_background": "light"
          }
        }
      ]
    },
    {
      "cell_type": "code",
      "metadata": {
        "id": "IBIkOdrrwtNE"
      },
      "source": [
        ""
      ],
      "execution_count": null,
      "outputs": []
    }
  ]
}